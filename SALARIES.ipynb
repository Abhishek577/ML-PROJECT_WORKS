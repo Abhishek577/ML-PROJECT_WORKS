{
 "cells": [
  {
   "cell_type": "code",
   "execution_count": 1,
   "metadata": {},
   "outputs": [],
   "source": [
    "import pandas as pd\n",
    "import numpy as np\n",
    "import matplotlib.pyplot as plt\n",
    "import seaborn as sns\n",
    "from scipy.stats import zscore,boxcox\n",
    "import warnings\n",
    "warnings.filterwarnings('ignore')\n",
    "import datetime\n",
    "from sklearn.preprocessing import LabelEncoder,StandardScaler"
   ]
  },
  {
   "cell_type": "code",
   "execution_count": 2,
   "metadata": {},
   "outputs": [],
   "source": [
    "sal=pd.read_csv('SALARIES.csv')"
   ]
  },
  {
   "cell_type": "code",
   "execution_count": 3,
   "metadata": {},
   "outputs": [
    {
     "data": {
      "text/html": [
       "<div>\n",
       "<style scoped>\n",
       "    .dataframe tbody tr th:only-of-type {\n",
       "        vertical-align: middle;\n",
       "    }\n",
       "\n",
       "    .dataframe tbody tr th {\n",
       "        vertical-align: top;\n",
       "    }\n",
       "\n",
       "    .dataframe thead th {\n",
       "        text-align: right;\n",
       "    }\n",
       "</style>\n",
       "<table border=\"1\" class=\"dataframe\">\n",
       "  <thead>\n",
       "    <tr style=\"text-align: right;\">\n",
       "      <th></th>\n",
       "      <th>Name</th>\n",
       "      <th>Team</th>\n",
       "      <th>Number</th>\n",
       "      <th>Position</th>\n",
       "      <th>Age</th>\n",
       "      <th>Height</th>\n",
       "      <th>Weight</th>\n",
       "      <th>College</th>\n",
       "      <th>Salary</th>\n",
       "    </tr>\n",
       "  </thead>\n",
       "  <tbody>\n",
       "    <tr>\n",
       "      <td>0</td>\n",
       "      <td>Avery Bradley</td>\n",
       "      <td>Boston Celtics</td>\n",
       "      <td>0</td>\n",
       "      <td>PG</td>\n",
       "      <td>25</td>\n",
       "      <td>06-Feb</td>\n",
       "      <td>180</td>\n",
       "      <td>Texas</td>\n",
       "      <td>7730337.0</td>\n",
       "    </tr>\n",
       "    <tr>\n",
       "      <td>1</td>\n",
       "      <td>Jae Crowder</td>\n",
       "      <td>Boston Celtics</td>\n",
       "      <td>99</td>\n",
       "      <td>SF</td>\n",
       "      <td>25</td>\n",
       "      <td>06-Jun</td>\n",
       "      <td>235</td>\n",
       "      <td>Marquette</td>\n",
       "      <td>6796117.0</td>\n",
       "    </tr>\n",
       "    <tr>\n",
       "      <td>2</td>\n",
       "      <td>John Holland</td>\n",
       "      <td>Boston Celtics</td>\n",
       "      <td>30</td>\n",
       "      <td>SG</td>\n",
       "      <td>27</td>\n",
       "      <td>06-May</td>\n",
       "      <td>205</td>\n",
       "      <td>Boston University</td>\n",
       "      <td>NaN</td>\n",
       "    </tr>\n",
       "    <tr>\n",
       "      <td>3</td>\n",
       "      <td>R.J. Hunter</td>\n",
       "      <td>Boston Celtics</td>\n",
       "      <td>28</td>\n",
       "      <td>SG</td>\n",
       "      <td>22</td>\n",
       "      <td>06-May</td>\n",
       "      <td>185</td>\n",
       "      <td>Georgia State</td>\n",
       "      <td>1148640.0</td>\n",
       "    </tr>\n",
       "    <tr>\n",
       "      <td>4</td>\n",
       "      <td>Jonas Jerebko</td>\n",
       "      <td>Boston Celtics</td>\n",
       "      <td>8</td>\n",
       "      <td>PF</td>\n",
       "      <td>29</td>\n",
       "      <td>06-Oct</td>\n",
       "      <td>231</td>\n",
       "      <td>NaN</td>\n",
       "      <td>5000000.0</td>\n",
       "    </tr>\n",
       "    <tr>\n",
       "      <td>...</td>\n",
       "      <td>...</td>\n",
       "      <td>...</td>\n",
       "      <td>...</td>\n",
       "      <td>...</td>\n",
       "      <td>...</td>\n",
       "      <td>...</td>\n",
       "      <td>...</td>\n",
       "      <td>...</td>\n",
       "      <td>...</td>\n",
       "    </tr>\n",
       "    <tr>\n",
       "      <td>452</td>\n",
       "      <td>Trey Lyles</td>\n",
       "      <td>Utah Jazz</td>\n",
       "      <td>41</td>\n",
       "      <td>PF</td>\n",
       "      <td>20</td>\n",
       "      <td>06-Oct</td>\n",
       "      <td>234</td>\n",
       "      <td>Kentucky</td>\n",
       "      <td>2239800.0</td>\n",
       "    </tr>\n",
       "    <tr>\n",
       "      <td>453</td>\n",
       "      <td>Shelvin Mack</td>\n",
       "      <td>Utah Jazz</td>\n",
       "      <td>8</td>\n",
       "      <td>PG</td>\n",
       "      <td>26</td>\n",
       "      <td>06-Mar</td>\n",
       "      <td>203</td>\n",
       "      <td>Butler</td>\n",
       "      <td>2433333.0</td>\n",
       "    </tr>\n",
       "    <tr>\n",
       "      <td>454</td>\n",
       "      <td>Raul Neto</td>\n",
       "      <td>Utah Jazz</td>\n",
       "      <td>25</td>\n",
       "      <td>PG</td>\n",
       "      <td>24</td>\n",
       "      <td>06-Jan</td>\n",
       "      <td>179</td>\n",
       "      <td>NaN</td>\n",
       "      <td>900000.0</td>\n",
       "    </tr>\n",
       "    <tr>\n",
       "      <td>455</td>\n",
       "      <td>Tibor Pleiss</td>\n",
       "      <td>Utah Jazz</td>\n",
       "      <td>21</td>\n",
       "      <td>C</td>\n",
       "      <td>26</td>\n",
       "      <td>07-Mar</td>\n",
       "      <td>256</td>\n",
       "      <td>NaN</td>\n",
       "      <td>2900000.0</td>\n",
       "    </tr>\n",
       "    <tr>\n",
       "      <td>456</td>\n",
       "      <td>Jeff Withey</td>\n",
       "      <td>Utah Jazz</td>\n",
       "      <td>24</td>\n",
       "      <td>C</td>\n",
       "      <td>26</td>\n",
       "      <td>07-Jan</td>\n",
       "      <td>231</td>\n",
       "      <td>Kansas</td>\n",
       "      <td>947276.0</td>\n",
       "    </tr>\n",
       "  </tbody>\n",
       "</table>\n",
       "<p>457 rows × 9 columns</p>\n",
       "</div>"
      ],
      "text/plain": [
       "              Name            Team  Number Position  Age  Height  Weight  \\\n",
       "0    Avery Bradley  Boston Celtics       0       PG   25  06-Feb     180   \n",
       "1      Jae Crowder  Boston Celtics      99       SF   25  06-Jun     235   \n",
       "2     John Holland  Boston Celtics      30       SG   27  06-May     205   \n",
       "3      R.J. Hunter  Boston Celtics      28       SG   22  06-May     185   \n",
       "4    Jonas Jerebko  Boston Celtics       8       PF   29  06-Oct     231   \n",
       "..             ...             ...     ...      ...  ...     ...     ...   \n",
       "452     Trey Lyles       Utah Jazz      41       PF   20  06-Oct     234   \n",
       "453   Shelvin Mack       Utah Jazz       8       PG   26  06-Mar     203   \n",
       "454      Raul Neto       Utah Jazz      25       PG   24  06-Jan     179   \n",
       "455   Tibor Pleiss       Utah Jazz      21        C   26  07-Mar     256   \n",
       "456    Jeff Withey       Utah Jazz      24        C   26  07-Jan     231   \n",
       "\n",
       "               College     Salary  \n",
       "0                Texas  7730337.0  \n",
       "1            Marquette  6796117.0  \n",
       "2    Boston University        NaN  \n",
       "3        Georgia State  1148640.0  \n",
       "4                  NaN  5000000.0  \n",
       "..                 ...        ...  \n",
       "452           Kentucky  2239800.0  \n",
       "453             Butler  2433333.0  \n",
       "454                NaN   900000.0  \n",
       "455                NaN  2900000.0  \n",
       "456             Kansas   947276.0  \n",
       "\n",
       "[457 rows x 9 columns]"
      ]
     },
     "execution_count": 3,
     "metadata": {},
     "output_type": "execute_result"
    }
   ],
   "source": [
    "sal"
   ]
  },
  {
   "cell_type": "code",
   "execution_count": 4,
   "metadata": {},
   "outputs": [],
   "source": [
    "#changing columns name\n",
    "sal.rename(columns={'Height':'DOJ','Weight':'Days_Worked'},inplace=True)"
   ]
  },
  {
   "cell_type": "code",
   "execution_count": 5,
   "metadata": {},
   "outputs": [
    {
     "data": {
      "text/plain": [
       "0     1900-02-06\n",
       "1     1900-06-06\n",
       "2     1900-05-06\n",
       "3     1900-05-06\n",
       "4     1900-10-06\n",
       "         ...    \n",
       "452   1900-10-06\n",
       "453   1900-03-06\n",
       "454   1900-01-06\n",
       "455   1900-03-07\n",
       "456   1900-01-07\n",
       "Name: DOJ, Length: 457, dtype: datetime64[ns]"
      ]
     },
     "execution_count": 5,
     "metadata": {},
     "output_type": "execute_result"
    }
   ],
   "source": [
    "#changing dtypes\n",
    "sal.DOJ=pd.to_datetime(sal['DOJ'],format='%d-%b')\n",
    "sal.DOJ\n"
   ]
  },
  {
   "cell_type": "code",
   "execution_count": 6,
   "metadata": {
    "scrolled": true
   },
   "outputs": [
    {
     "data": {
      "text/plain": [
       "Name                   object\n",
       "Team                   object\n",
       "Number                  int64\n",
       "Position               object\n",
       "Age                     int64\n",
       "DOJ            datetime64[ns]\n",
       "Days_Worked             int64\n",
       "College                object\n",
       "Salary                float64\n",
       "dtype: object"
      ]
     },
     "execution_count": 6,
     "metadata": {},
     "output_type": "execute_result"
    }
   ],
   "source": [
    "sal.dtypes"
   ]
  },
  {
   "cell_type": "raw",
   "metadata": {},
   "source": [
    "sal=pd.contcat(sal['DOJ'].dt.year\n",
    "df['month'] = df['ArrivalDate'].dt.month"
   ]
  },
  {
   "cell_type": "code",
   "execution_count": 7,
   "metadata": {},
   "outputs": [],
   "source": [
    "sal['date_joined'] = sal['DOJ'].dt.strftime('%d/%m')\n",
    "#extracting only dd-mm to a new column\n"
   ]
  },
  {
   "cell_type": "code",
   "execution_count": 8,
   "metadata": {},
   "outputs": [
    {
     "data": {
      "text/plain": [
       "Name                   object\n",
       "Team                   object\n",
       "Number                  int64\n",
       "Position               object\n",
       "Age                     int64\n",
       "DOJ            datetime64[ns]\n",
       "Days_Worked             int64\n",
       "College                object\n",
       "Salary                float64\n",
       "date_joined            object\n",
       "dtype: object"
      ]
     },
     "execution_count": 8,
     "metadata": {},
     "output_type": "execute_result"
    }
   ],
   "source": [
    "sal.dtypes"
   ]
  },
  {
   "cell_type": "code",
   "execution_count": 9,
   "metadata": {},
   "outputs": [],
   "source": [
    "sal=sal.drop(['DOJ','Name','Number','date_joined'],axis=1)\n",
    "#drop date_joined as its not changing to timestamp64[ns] format after strftime operation"
   ]
  },
  {
   "cell_type": "code",
   "execution_count": 10,
   "metadata": {},
   "outputs": [
    {
     "data": {
      "text/html": [
       "<div>\n",
       "<style scoped>\n",
       "    .dataframe tbody tr th:only-of-type {\n",
       "        vertical-align: middle;\n",
       "    }\n",
       "\n",
       "    .dataframe tbody tr th {\n",
       "        vertical-align: top;\n",
       "    }\n",
       "\n",
       "    .dataframe thead th {\n",
       "        text-align: right;\n",
       "    }\n",
       "</style>\n",
       "<table border=\"1\" class=\"dataframe\">\n",
       "  <thead>\n",
       "    <tr style=\"text-align: right;\">\n",
       "      <th></th>\n",
       "      <th>Team</th>\n",
       "      <th>Position</th>\n",
       "      <th>Age</th>\n",
       "      <th>Days_Worked</th>\n",
       "      <th>College</th>\n",
       "      <th>Salary</th>\n",
       "    </tr>\n",
       "  </thead>\n",
       "  <tbody>\n",
       "    <tr>\n",
       "      <td>0</td>\n",
       "      <td>Boston Celtics</td>\n",
       "      <td>PG</td>\n",
       "      <td>25</td>\n",
       "      <td>180</td>\n",
       "      <td>Texas</td>\n",
       "      <td>7730337.0</td>\n",
       "    </tr>\n",
       "    <tr>\n",
       "      <td>1</td>\n",
       "      <td>Boston Celtics</td>\n",
       "      <td>SF</td>\n",
       "      <td>25</td>\n",
       "      <td>235</td>\n",
       "      <td>Marquette</td>\n",
       "      <td>6796117.0</td>\n",
       "    </tr>\n",
       "    <tr>\n",
       "      <td>2</td>\n",
       "      <td>Boston Celtics</td>\n",
       "      <td>SG</td>\n",
       "      <td>27</td>\n",
       "      <td>205</td>\n",
       "      <td>Boston University</td>\n",
       "      <td>NaN</td>\n",
       "    </tr>\n",
       "    <tr>\n",
       "      <td>3</td>\n",
       "      <td>Boston Celtics</td>\n",
       "      <td>SG</td>\n",
       "      <td>22</td>\n",
       "      <td>185</td>\n",
       "      <td>Georgia State</td>\n",
       "      <td>1148640.0</td>\n",
       "    </tr>\n",
       "    <tr>\n",
       "      <td>4</td>\n",
       "      <td>Boston Celtics</td>\n",
       "      <td>PF</td>\n",
       "      <td>29</td>\n",
       "      <td>231</td>\n",
       "      <td>NaN</td>\n",
       "      <td>5000000.0</td>\n",
       "    </tr>\n",
       "    <tr>\n",
       "      <td>...</td>\n",
       "      <td>...</td>\n",
       "      <td>...</td>\n",
       "      <td>...</td>\n",
       "      <td>...</td>\n",
       "      <td>...</td>\n",
       "      <td>...</td>\n",
       "    </tr>\n",
       "    <tr>\n",
       "      <td>452</td>\n",
       "      <td>Utah Jazz</td>\n",
       "      <td>PF</td>\n",
       "      <td>20</td>\n",
       "      <td>234</td>\n",
       "      <td>Kentucky</td>\n",
       "      <td>2239800.0</td>\n",
       "    </tr>\n",
       "    <tr>\n",
       "      <td>453</td>\n",
       "      <td>Utah Jazz</td>\n",
       "      <td>PG</td>\n",
       "      <td>26</td>\n",
       "      <td>203</td>\n",
       "      <td>Butler</td>\n",
       "      <td>2433333.0</td>\n",
       "    </tr>\n",
       "    <tr>\n",
       "      <td>454</td>\n",
       "      <td>Utah Jazz</td>\n",
       "      <td>PG</td>\n",
       "      <td>24</td>\n",
       "      <td>179</td>\n",
       "      <td>NaN</td>\n",
       "      <td>900000.0</td>\n",
       "    </tr>\n",
       "    <tr>\n",
       "      <td>455</td>\n",
       "      <td>Utah Jazz</td>\n",
       "      <td>C</td>\n",
       "      <td>26</td>\n",
       "      <td>256</td>\n",
       "      <td>NaN</td>\n",
       "      <td>2900000.0</td>\n",
       "    </tr>\n",
       "    <tr>\n",
       "      <td>456</td>\n",
       "      <td>Utah Jazz</td>\n",
       "      <td>C</td>\n",
       "      <td>26</td>\n",
       "      <td>231</td>\n",
       "      <td>Kansas</td>\n",
       "      <td>947276.0</td>\n",
       "    </tr>\n",
       "  </tbody>\n",
       "</table>\n",
       "<p>457 rows × 6 columns</p>\n",
       "</div>"
      ],
      "text/plain": [
       "               Team Position  Age  Days_Worked            College     Salary\n",
       "0    Boston Celtics       PG   25          180              Texas  7730337.0\n",
       "1    Boston Celtics       SF   25          235          Marquette  6796117.0\n",
       "2    Boston Celtics       SG   27          205  Boston University        NaN\n",
       "3    Boston Celtics       SG   22          185      Georgia State  1148640.0\n",
       "4    Boston Celtics       PF   29          231                NaN  5000000.0\n",
       "..              ...      ...  ...          ...                ...        ...\n",
       "452       Utah Jazz       PF   20          234           Kentucky  2239800.0\n",
       "453       Utah Jazz       PG   26          203             Butler  2433333.0\n",
       "454       Utah Jazz       PG   24          179                NaN   900000.0\n",
       "455       Utah Jazz        C   26          256                NaN  2900000.0\n",
       "456       Utah Jazz        C   26          231             Kansas   947276.0\n",
       "\n",
       "[457 rows x 6 columns]"
      ]
     },
     "execution_count": 10,
     "metadata": {},
     "output_type": "execute_result"
    }
   ],
   "source": [
    "sal"
   ]
  },
  {
   "cell_type": "code",
   "execution_count": 11,
   "metadata": {},
   "outputs": [
    {
     "data": {
      "text/plain": [
       "(457, 6)"
      ]
     },
     "execution_count": 11,
     "metadata": {},
     "output_type": "execute_result"
    }
   ],
   "source": [
    "sal.shape"
   ]
  },
  {
   "cell_type": "code",
   "execution_count": 12,
   "metadata": {},
   "outputs": [
    {
     "data": {
      "text/html": [
       "<div>\n",
       "<style scoped>\n",
       "    .dataframe tbody tr th:only-of-type {\n",
       "        vertical-align: middle;\n",
       "    }\n",
       "\n",
       "    .dataframe tbody tr th {\n",
       "        vertical-align: top;\n",
       "    }\n",
       "\n",
       "    .dataframe thead th {\n",
       "        text-align: right;\n",
       "    }\n",
       "</style>\n",
       "<table border=\"1\" class=\"dataframe\">\n",
       "  <thead>\n",
       "    <tr style=\"text-align: right;\">\n",
       "      <th></th>\n",
       "      <th>Team</th>\n",
       "      <th>Position</th>\n",
       "      <th>Age</th>\n",
       "      <th>Days_Worked</th>\n",
       "      <th>College</th>\n",
       "      <th>Salary</th>\n",
       "    </tr>\n",
       "  </thead>\n",
       "  <tbody>\n",
       "    <tr>\n",
       "      <td>0</td>\n",
       "      <td>Boston Celtics</td>\n",
       "      <td>PG</td>\n",
       "      <td>25</td>\n",
       "      <td>180</td>\n",
       "      <td>Texas</td>\n",
       "      <td>7730337.0</td>\n",
       "    </tr>\n",
       "    <tr>\n",
       "      <td>1</td>\n",
       "      <td>Boston Celtics</td>\n",
       "      <td>SF</td>\n",
       "      <td>25</td>\n",
       "      <td>235</td>\n",
       "      <td>Marquette</td>\n",
       "      <td>6796117.0</td>\n",
       "    </tr>\n",
       "    <tr>\n",
       "      <td>2</td>\n",
       "      <td>Boston Celtics</td>\n",
       "      <td>SG</td>\n",
       "      <td>27</td>\n",
       "      <td>205</td>\n",
       "      <td>Boston University</td>\n",
       "      <td>NaN</td>\n",
       "    </tr>\n",
       "    <tr>\n",
       "      <td>3</td>\n",
       "      <td>Boston Celtics</td>\n",
       "      <td>SG</td>\n",
       "      <td>22</td>\n",
       "      <td>185</td>\n",
       "      <td>Georgia State</td>\n",
       "      <td>1148640.0</td>\n",
       "    </tr>\n",
       "    <tr>\n",
       "      <td>4</td>\n",
       "      <td>Boston Celtics</td>\n",
       "      <td>PF</td>\n",
       "      <td>29</td>\n",
       "      <td>231</td>\n",
       "      <td>NaN</td>\n",
       "      <td>5000000.0</td>\n",
       "    </tr>\n",
       "    <tr>\n",
       "      <td>5</td>\n",
       "      <td>Boston Celtics</td>\n",
       "      <td>PF</td>\n",
       "      <td>29</td>\n",
       "      <td>240</td>\n",
       "      <td>NaN</td>\n",
       "      <td>12000000.0</td>\n",
       "    </tr>\n",
       "    <tr>\n",
       "      <td>6</td>\n",
       "      <td>Boston Celtics</td>\n",
       "      <td>PF</td>\n",
       "      <td>21</td>\n",
       "      <td>235</td>\n",
       "      <td>LSU</td>\n",
       "      <td>1170960.0</td>\n",
       "    </tr>\n",
       "  </tbody>\n",
       "</table>\n",
       "</div>"
      ],
      "text/plain": [
       "             Team Position  Age  Days_Worked            College      Salary\n",
       "0  Boston Celtics       PG   25          180              Texas   7730337.0\n",
       "1  Boston Celtics       SF   25          235          Marquette   6796117.0\n",
       "2  Boston Celtics       SG   27          205  Boston University         NaN\n",
       "3  Boston Celtics       SG   22          185      Georgia State   1148640.0\n",
       "4  Boston Celtics       PF   29          231                NaN   5000000.0\n",
       "5  Boston Celtics       PF   29          240                NaN  12000000.0\n",
       "6  Boston Celtics       PF   21          235                LSU   1170960.0"
      ]
     },
     "execution_count": 12,
     "metadata": {},
     "output_type": "execute_result"
    }
   ],
   "source": [
    "sal.head(7)"
   ]
  },
  {
   "cell_type": "code",
   "execution_count": 13,
   "metadata": {},
   "outputs": [
    {
     "data": {
      "text/html": [
       "<div>\n",
       "<style scoped>\n",
       "    .dataframe tbody tr th:only-of-type {\n",
       "        vertical-align: middle;\n",
       "    }\n",
       "\n",
       "    .dataframe tbody tr th {\n",
       "        vertical-align: top;\n",
       "    }\n",
       "\n",
       "    .dataframe thead th {\n",
       "        text-align: right;\n",
       "    }\n",
       "</style>\n",
       "<table border=\"1\" class=\"dataframe\">\n",
       "  <thead>\n",
       "    <tr style=\"text-align: right;\">\n",
       "      <th></th>\n",
       "      <th>Team</th>\n",
       "      <th>Position</th>\n",
       "      <th>Age</th>\n",
       "      <th>Days_Worked</th>\n",
       "      <th>College</th>\n",
       "      <th>Salary</th>\n",
       "    </tr>\n",
       "  </thead>\n",
       "  <tbody>\n",
       "    <tr>\n",
       "      <td>450</td>\n",
       "      <td>Utah Jazz</td>\n",
       "      <td>SF</td>\n",
       "      <td>28</td>\n",
       "      <td>226</td>\n",
       "      <td>NaN</td>\n",
       "      <td>2050000.0</td>\n",
       "    </tr>\n",
       "    <tr>\n",
       "      <td>451</td>\n",
       "      <td>Utah Jazz</td>\n",
       "      <td>SF</td>\n",
       "      <td>26</td>\n",
       "      <td>206</td>\n",
       "      <td>Dayton</td>\n",
       "      <td>981348.0</td>\n",
       "    </tr>\n",
       "    <tr>\n",
       "      <td>452</td>\n",
       "      <td>Utah Jazz</td>\n",
       "      <td>PF</td>\n",
       "      <td>20</td>\n",
       "      <td>234</td>\n",
       "      <td>Kentucky</td>\n",
       "      <td>2239800.0</td>\n",
       "    </tr>\n",
       "    <tr>\n",
       "      <td>453</td>\n",
       "      <td>Utah Jazz</td>\n",
       "      <td>PG</td>\n",
       "      <td>26</td>\n",
       "      <td>203</td>\n",
       "      <td>Butler</td>\n",
       "      <td>2433333.0</td>\n",
       "    </tr>\n",
       "    <tr>\n",
       "      <td>454</td>\n",
       "      <td>Utah Jazz</td>\n",
       "      <td>PG</td>\n",
       "      <td>24</td>\n",
       "      <td>179</td>\n",
       "      <td>NaN</td>\n",
       "      <td>900000.0</td>\n",
       "    </tr>\n",
       "    <tr>\n",
       "      <td>455</td>\n",
       "      <td>Utah Jazz</td>\n",
       "      <td>C</td>\n",
       "      <td>26</td>\n",
       "      <td>256</td>\n",
       "      <td>NaN</td>\n",
       "      <td>2900000.0</td>\n",
       "    </tr>\n",
       "    <tr>\n",
       "      <td>456</td>\n",
       "      <td>Utah Jazz</td>\n",
       "      <td>C</td>\n",
       "      <td>26</td>\n",
       "      <td>231</td>\n",
       "      <td>Kansas</td>\n",
       "      <td>947276.0</td>\n",
       "    </tr>\n",
       "  </tbody>\n",
       "</table>\n",
       "</div>"
      ],
      "text/plain": [
       "          Team Position  Age  Days_Worked   College     Salary\n",
       "450  Utah Jazz       SF   28          226       NaN  2050000.0\n",
       "451  Utah Jazz       SF   26          206    Dayton   981348.0\n",
       "452  Utah Jazz       PF   20          234  Kentucky  2239800.0\n",
       "453  Utah Jazz       PG   26          203    Butler  2433333.0\n",
       "454  Utah Jazz       PG   24          179       NaN   900000.0\n",
       "455  Utah Jazz        C   26          256       NaN  2900000.0\n",
       "456  Utah Jazz        C   26          231    Kansas   947276.0"
      ]
     },
     "execution_count": 13,
     "metadata": {},
     "output_type": "execute_result"
    }
   ],
   "source": [
    "sal.tail(7)"
   ]
  },
  {
   "cell_type": "code",
   "execution_count": 14,
   "metadata": {},
   "outputs": [
    {
     "name": "stdout",
     "output_type": "stream",
     "text": [
      "<class 'pandas.core.frame.DataFrame'>\n",
      "RangeIndex: 457 entries, 0 to 456\n",
      "Data columns (total 6 columns):\n",
      "Team           457 non-null object\n",
      "Position       457 non-null object\n",
      "Age            457 non-null int64\n",
      "Days_Worked    457 non-null int64\n",
      "College        373 non-null object\n",
      "Salary         446 non-null float64\n",
      "dtypes: float64(1), int64(2), object(3)\n",
      "memory usage: 21.5+ KB\n"
     ]
    }
   ],
   "source": [
    "sal.info()"
   ]
  },
  {
   "cell_type": "code",
   "execution_count": 15,
   "metadata": {},
   "outputs": [
    {
     "data": {
      "text/plain": [
       "Team           Atlanta Hawks\n",
       "Position                   C\n",
       "Age                       19\n",
       "Days_Worked              161\n",
       "Salary                 30888\n",
       "dtype: object"
      ]
     },
     "execution_count": 15,
     "metadata": {},
     "output_type": "execute_result"
    }
   ],
   "source": [
    "sal.min()"
   ]
  },
  {
   "cell_type": "code",
   "execution_count": 16,
   "metadata": {},
   "outputs": [
    {
     "data": {
      "text/plain": [
       "Team           Washington Wizards\n",
       "Position                       SG\n",
       "Age                            40\n",
       "Days_Worked                   307\n",
       "Salary                    2.5e+07\n",
       "dtype: object"
      ]
     },
     "execution_count": 16,
     "metadata": {},
     "output_type": "execute_result"
    }
   ],
   "source": [
    "sal.max()"
   ]
  },
  {
   "cell_type": "code",
   "execution_count": 17,
   "metadata": {},
   "outputs": [
    {
     "data": {
      "text/plain": [
       "Team            0\n",
       "Position        0\n",
       "Age             0\n",
       "Days_Worked     0\n",
       "College        84\n",
       "Salary         11\n",
       "dtype: int64"
      ]
     },
     "execution_count": 17,
     "metadata": {},
     "output_type": "execute_result"
    }
   ],
   "source": [
    "sal.isnull().sum()"
   ]
  },
  {
   "cell_type": "code",
   "execution_count": 18,
   "metadata": {},
   "outputs": [
    {
     "data": {
      "text/plain": [
       "0    Kentucky\n",
       "dtype: object"
      ]
     },
     "execution_count": 18,
     "metadata": {},
     "output_type": "execute_result"
    }
   ],
   "source": [
    "sal['College'].mode()"
   ]
  },
  {
   "cell_type": "code",
   "execution_count": 19,
   "metadata": {},
   "outputs": [
    {
     "data": {
      "text/plain": [
       "4842684.105381166"
      ]
     },
     "execution_count": 19,
     "metadata": {},
     "output_type": "execute_result"
    }
   ],
   "source": [
    "sal['Salary'].mean()"
   ]
  },
  {
   "cell_type": "code",
   "execution_count": 20,
   "metadata": {},
   "outputs": [],
   "source": [
    "#replacing NaN values"
   ]
  },
  {
   "cell_type": "code",
   "execution_count": 21,
   "metadata": {},
   "outputs": [],
   "source": [
    "sal['College']=sal['College'].fillna(( 'Kentucky'))"
   ]
  },
  {
   "cell_type": "code",
   "execution_count": 22,
   "metadata": {},
   "outputs": [],
   "source": [
    "sal['Salary']=sal['Salary'].replace(np.NaN,sal[\"Salary\"].mean())"
   ]
  },
  {
   "cell_type": "code",
   "execution_count": 23,
   "metadata": {},
   "outputs": [
    {
     "data": {
      "text/plain": [
       "<matplotlib.axes._subplots.AxesSubplot at 0x1ac054dbd48>"
      ]
     },
     "execution_count": 23,
     "metadata": {},
     "output_type": "execute_result"
    },
    {
     "data": {
      "image/png": "[encoded data removed]",
      "text/plain": [
       "<Figure size 432x288 with 2 Axes>"
      ]
     },
     "metadata": {
      "needs_background": "light"
     },
     "output_type": "display_data"
    }
   ],
   "source": [
    "sns.heatmap(sal.isnull())\n",
    "#no null values left"
   ]
  },
  {
   "cell_type": "code",
   "execution_count": 24,
   "metadata": {},
   "outputs": [],
   "source": [
    "#checking duplicates and dropping if any"
   ]
  },
  {
   "cell_type": "code",
   "execution_count": 25,
   "metadata": {},
   "outputs": [
    {
     "data": {
      "text/plain": [
       "False    457\n",
       "dtype: int64"
      ]
     },
     "execution_count": 25,
     "metadata": {},
     "output_type": "execute_result"
    }
   ],
   "source": [
    "sal_dupli=sal.duplicated()\n",
    "sal_dupli.value_counts()"
   ]
  },
  {
   "cell_type": "code",
   "execution_count": 26,
   "metadata": {},
   "outputs": [
    {
     "data": {
      "text/html": [
       "<div>\n",
       "<style scoped>\n",
       "    .dataframe tbody tr th:only-of-type {\n",
       "        vertical-align: middle;\n",
       "    }\n",
       "\n",
       "    .dataframe tbody tr th {\n",
       "        vertical-align: top;\n",
       "    }\n",
       "\n",
       "    .dataframe thead th {\n",
       "        text-align: right;\n",
       "    }\n",
       "</style>\n",
       "<table border=\"1\" class=\"dataframe\">\n",
       "  <thead>\n",
       "    <tr style=\"text-align: right;\">\n",
       "      <th></th>\n",
       "      <th>Age</th>\n",
       "      <th>Days_Worked</th>\n",
       "      <th>Salary</th>\n",
       "    </tr>\n",
       "  </thead>\n",
       "  <tbody>\n",
       "    <tr>\n",
       "      <td>count</td>\n",
       "      <td>457.000000</td>\n",
       "      <td>457.000000</td>\n",
       "      <td>4.570000e+02</td>\n",
       "    </tr>\n",
       "    <tr>\n",
       "      <td>mean</td>\n",
       "      <td>26.938731</td>\n",
       "      <td>221.522976</td>\n",
       "      <td>4.842684e+06</td>\n",
       "    </tr>\n",
       "    <tr>\n",
       "      <td>std</td>\n",
       "      <td>4.404016</td>\n",
       "      <td>26.368343</td>\n",
       "      <td>5.165781e+06</td>\n",
       "    </tr>\n",
       "    <tr>\n",
       "      <td>min</td>\n",
       "      <td>19.000000</td>\n",
       "      <td>161.000000</td>\n",
       "      <td>3.088800e+04</td>\n",
       "    </tr>\n",
       "    <tr>\n",
       "      <td>25%</td>\n",
       "      <td>24.000000</td>\n",
       "      <td>200.000000</td>\n",
       "      <td>1.100602e+06</td>\n",
       "    </tr>\n",
       "    <tr>\n",
       "      <td>50%</td>\n",
       "      <td>26.000000</td>\n",
       "      <td>220.000000</td>\n",
       "      <td>2.869440e+06</td>\n",
       "    </tr>\n",
       "    <tr>\n",
       "      <td>75%</td>\n",
       "      <td>30.000000</td>\n",
       "      <td>240.000000</td>\n",
       "      <td>6.331404e+06</td>\n",
       "    </tr>\n",
       "    <tr>\n",
       "      <td>max</td>\n",
       "      <td>40.000000</td>\n",
       "      <td>307.000000</td>\n",
       "      <td>2.500000e+07</td>\n",
       "    </tr>\n",
       "  </tbody>\n",
       "</table>\n",
       "</div>"
      ],
      "text/plain": [
       "              Age  Days_Worked        Salary\n",
       "count  457.000000   457.000000  4.570000e+02\n",
       "mean    26.938731   221.522976  4.842684e+06\n",
       "std      4.404016    26.368343  5.165781e+06\n",
       "min     19.000000   161.000000  3.088800e+04\n",
       "25%     24.000000   200.000000  1.100602e+06\n",
       "50%     26.000000   220.000000  2.869440e+06\n",
       "75%     30.000000   240.000000  6.331404e+06\n",
       "max     40.000000   307.000000  2.500000e+07"
      ]
     },
     "execution_count": 26,
     "metadata": {},
     "output_type": "execute_result"
    }
   ],
   "source": [
    "\n",
    "sal.describe()"
   ]
  },
  {
   "cell_type": "code",
   "execution_count": 27,
   "metadata": {},
   "outputs": [
    {
     "data": {
      "text/html": [
       "<div>\n",
       "<style scoped>\n",
       "    .dataframe tbody tr th:only-of-type {\n",
       "        vertical-align: middle;\n",
       "    }\n",
       "\n",
       "    .dataframe tbody tr th {\n",
       "        vertical-align: top;\n",
       "    }\n",
       "\n",
       "    .dataframe thead th {\n",
       "        text-align: right;\n",
       "    }\n",
       "</style>\n",
       "<table border=\"1\" class=\"dataframe\">\n",
       "  <thead>\n",
       "    <tr style=\"text-align: right;\">\n",
       "      <th></th>\n",
       "      <th>Team</th>\n",
       "      <th>Position</th>\n",
       "      <th>College</th>\n",
       "    </tr>\n",
       "  </thead>\n",
       "  <tbody>\n",
       "    <tr>\n",
       "      <td>count</td>\n",
       "      <td>457</td>\n",
       "      <td>457</td>\n",
       "      <td>457</td>\n",
       "    </tr>\n",
       "    <tr>\n",
       "      <td>unique</td>\n",
       "      <td>30</td>\n",
       "      <td>5</td>\n",
       "      <td>118</td>\n",
       "    </tr>\n",
       "    <tr>\n",
       "      <td>top</td>\n",
       "      <td>New Orleans Pelicans</td>\n",
       "      <td>SG</td>\n",
       "      <td>Kentucky</td>\n",
       "    </tr>\n",
       "    <tr>\n",
       "      <td>freq</td>\n",
       "      <td>19</td>\n",
       "      <td>102</td>\n",
       "      <td>106</td>\n",
       "    </tr>\n",
       "  </tbody>\n",
       "</table>\n",
       "</div>"
      ],
      "text/plain": [
       "                        Team Position   College\n",
       "count                    457      457       457\n",
       "unique                    30        5       118\n",
       "top     New Orleans Pelicans       SG  Kentucky\n",
       "freq                      19      102       106"
      ]
     },
     "execution_count": 27,
     "metadata": {},
     "output_type": "execute_result"
    }
   ],
   "source": [
    "obj=['object']\n",
    "sal.describe(include=obj)"
   ]
  },
  {
   "cell_type": "code",
   "execution_count": 28,
   "metadata": {
    "scrolled": true
   },
   "outputs": [
    {
     "data": {
      "text/plain": [
       "New Orleans Pelicans      19\n",
       "Memphis Grizzlies         18\n",
       "New York Knicks           16\n",
       "Milwaukee Bucks           16\n",
       "Phoenix Suns              15\n",
       "San Antonio Spurs         15\n",
       "Utah Jazz                 15\n",
       "Miami Heat                15\n",
       "Washington Wizards        15\n",
       "Philadelphia 76ers        15\n",
       "Denver Nuggets            15\n",
       "Atlanta Hawks             15\n",
       "Portland Trail Blazers    15\n",
       "Houston Rockets           15\n",
       "Chicago Bulls             15\n",
       "Dallas Mavericks          15\n",
       "Los Angeles Lakers        15\n",
       "Charlotte Hornets         15\n",
       "Indiana Pacers            15\n",
       "Los Angeles Clippers      15\n",
       "Brooklyn Nets             15\n",
       "Toronto Raptors           15\n",
       "Cleveland Cavaliers       15\n",
       "Boston Celtics            15\n",
       "Golden State Warriors     15\n",
       "Detroit Pistons           15\n",
       "Sacramento Kings          15\n",
       "Oklahoma City Thunder     15\n",
       "Orlando Magic             14\n",
       "Minnesota Timberwolves    14\n",
       "Name: Team, dtype: int64"
      ]
     },
     "execution_count": 28,
     "metadata": {},
     "output_type": "execute_result"
    }
   ],
   "source": [
    "sal['Team'].value_counts()"
   ]
  },
  {
   "cell_type": "code",
   "execution_count": 29,
   "metadata": {},
   "outputs": [
    {
     "data": {
      "text/plain": [
       "Kentucky           106\n",
       "Duke                20\n",
       "Kansas              18\n",
       "North Carolina      16\n",
       "UCLA                15\n",
       "                  ... \n",
       "Louisiana Tech       1\n",
       "Rhode Island         1\n",
       "Tennessee State      1\n",
       "Xavier               1\n",
       "Bucknell             1\n",
       "Name: College, Length: 118, dtype: int64"
      ]
     },
     "execution_count": 29,
     "metadata": {},
     "output_type": "execute_result"
    }
   ],
   "source": [
    "sal['College'].value_counts()"
   ]
  },
  {
   "cell_type": "code",
   "execution_count": 30,
   "metadata": {},
   "outputs": [
    {
     "data": {
      "text/plain": [
       "SG    102\n",
       "PF    100\n",
       "PG     92\n",
       "SF     85\n",
       "C      78\n",
       "Name: Position, dtype: int64"
      ]
     },
     "execution_count": 30,
     "metadata": {},
     "output_type": "execute_result"
    }
   ],
   "source": [
    "sal.Position.value_counts()"
   ]
  },
  {
   "cell_type": "code",
   "execution_count": 31,
   "metadata": {},
   "outputs": [
    {
     "data": {
      "text/html": [
       "<div>\n",
       "<style scoped>\n",
       "    .dataframe tbody tr th:only-of-type {\n",
       "        vertical-align: middle;\n",
       "    }\n",
       "\n",
       "    .dataframe tbody tr th {\n",
       "        vertical-align: top;\n",
       "    }\n",
       "\n",
       "    .dataframe thead th {\n",
       "        text-align: right;\n",
       "    }\n",
       "</style>\n",
       "<table border=\"1\" class=\"dataframe\">\n",
       "  <thead>\n",
       "    <tr style=\"text-align: right;\">\n",
       "      <th></th>\n",
       "      <th>Salary</th>\n",
       "    </tr>\n",
       "    <tr>\n",
       "      <th>Team</th>\n",
       "      <th></th>\n",
       "    </tr>\n",
       "  </thead>\n",
       "  <tbody>\n",
       "    <tr>\n",
       "      <td>Atlanta Hawks</td>\n",
       "      <td>4.860197e+06</td>\n",
       "    </tr>\n",
       "    <tr>\n",
       "      <td>Boston Celtics</td>\n",
       "      <td>4.225583e+06</td>\n",
       "    </tr>\n",
       "    <tr>\n",
       "      <td>Brooklyn Nets</td>\n",
       "      <td>3.501898e+06</td>\n",
       "    </tr>\n",
       "    <tr>\n",
       "      <td>Charlotte Hornets</td>\n",
       "      <td>5.222728e+06</td>\n",
       "    </tr>\n",
       "    <tr>\n",
       "      <td>Chicago Bulls</td>\n",
       "      <td>5.785559e+06</td>\n",
       "    </tr>\n",
       "    <tr>\n",
       "      <td>Cleveland Cavaliers</td>\n",
       "      <td>7.455425e+06</td>\n",
       "    </tr>\n",
       "    <tr>\n",
       "      <td>Dallas Mavericks</td>\n",
       "      <td>4.746582e+06</td>\n",
       "    </tr>\n",
       "    <tr>\n",
       "      <td>Denver Nuggets</td>\n",
       "      <td>4.330974e+06</td>\n",
       "    </tr>\n",
       "    <tr>\n",
       "      <td>Detroit Pistons</td>\n",
       "      <td>4.477884e+06</td>\n",
       "    </tr>\n",
       "    <tr>\n",
       "      <td>Golden State Warriors</td>\n",
       "      <td>5.924600e+06</td>\n",
       "    </tr>\n",
       "    <tr>\n",
       "      <td>Houston Rockets</td>\n",
       "      <td>5.018868e+06</td>\n",
       "    </tr>\n",
       "    <tr>\n",
       "      <td>Indiana Pacers</td>\n",
       "      <td>4.450122e+06</td>\n",
       "    </tr>\n",
       "    <tr>\n",
       "      <td>Los Angeles Clippers</td>\n",
       "      <td>6.323643e+06</td>\n",
       "    </tr>\n",
       "    <tr>\n",
       "      <td>Los Angeles Lakers</td>\n",
       "      <td>4.784695e+06</td>\n",
       "    </tr>\n",
       "    <tr>\n",
       "      <td>Memphis Grizzlies</td>\n",
       "      <td>5.328979e+06</td>\n",
       "    </tr>\n",
       "    <tr>\n",
       "      <td>Miami Heat</td>\n",
       "      <td>6.146736e+06</td>\n",
       "    </tr>\n",
       "    <tr>\n",
       "      <td>Milwaukee Bucks</td>\n",
       "      <td>4.350220e+06</td>\n",
       "    </tr>\n",
       "    <tr>\n",
       "      <td>Minnesota Timberwolves</td>\n",
       "      <td>4.610884e+06</td>\n",
       "    </tr>\n",
       "    <tr>\n",
       "      <td>New Orleans Pelicans</td>\n",
       "      <td>4.355304e+06</td>\n",
       "    </tr>\n",
       "    <tr>\n",
       "      <td>New York Knicks</td>\n",
       "      <td>4.581494e+06</td>\n",
       "    </tr>\n",
       "    <tr>\n",
       "      <td>Oklahoma City Thunder</td>\n",
       "      <td>6.251020e+06</td>\n",
       "    </tr>\n",
       "    <tr>\n",
       "      <td>Orlando Magic</td>\n",
       "      <td>4.297248e+06</td>\n",
       "    </tr>\n",
       "    <tr>\n",
       "      <td>Philadelphia 76ers</td>\n",
       "      <td>2.389039e+06</td>\n",
       "    </tr>\n",
       "    <tr>\n",
       "      <td>Phoenix Suns</td>\n",
       "      <td>4.229676e+06</td>\n",
       "    </tr>\n",
       "    <tr>\n",
       "      <td>Portland Trail Blazers</td>\n",
       "      <td>3.220121e+06</td>\n",
       "    </tr>\n",
       "    <tr>\n",
       "      <td>Sacramento Kings</td>\n",
       "      <td>4.778911e+06</td>\n",
       "    </tr>\n",
       "    <tr>\n",
       "      <td>San Antonio Spurs</td>\n",
       "      <td>5.629516e+06</td>\n",
       "    </tr>\n",
       "    <tr>\n",
       "      <td>Toronto Raptors</td>\n",
       "      <td>4.741174e+06</td>\n",
       "    </tr>\n",
       "    <tr>\n",
       "      <td>Utah Jazz</td>\n",
       "      <td>4.204006e+06</td>\n",
       "    </tr>\n",
       "    <tr>\n",
       "      <td>Washington Wizards</td>\n",
       "      <td>5.088576e+06</td>\n",
       "    </tr>\n",
       "  </tbody>\n",
       "</table>\n",
       "</div>"
      ],
      "text/plain": [
       "                              Salary\n",
       "Team                                \n",
       "Atlanta Hawks           4.860197e+06\n",
       "Boston Celtics          4.225583e+06\n",
       "Brooklyn Nets           3.501898e+06\n",
       "Charlotte Hornets       5.222728e+06\n",
       "Chicago Bulls           5.785559e+06\n",
       "Cleveland Cavaliers     7.455425e+06\n",
       "Dallas Mavericks        4.746582e+06\n",
       "Denver Nuggets          4.330974e+06\n",
       "Detroit Pistons         4.477884e+06\n",
       "Golden State Warriors   5.924600e+06\n",
       "Houston Rockets         5.018868e+06\n",
       "Indiana Pacers          4.450122e+06\n",
       "Los Angeles Clippers    6.323643e+06\n",
       "Los Angeles Lakers      4.784695e+06\n",
       "Memphis Grizzlies       5.328979e+06\n",
       "Miami Heat              6.146736e+06\n",
       "Milwaukee Bucks         4.350220e+06\n",
       "Minnesota Timberwolves  4.610884e+06\n",
       "New Orleans Pelicans    4.355304e+06\n",
       "New York Knicks         4.581494e+06\n",
       "Oklahoma City Thunder   6.251020e+06\n",
       "Orlando Magic           4.297248e+06\n",
       "Philadelphia 76ers      2.389039e+06\n",
       "Phoenix Suns            4.229676e+06\n",
       "Portland Trail Blazers  3.220121e+06\n",
       "Sacramento Kings        4.778911e+06\n",
       "San Antonio Spurs       5.629516e+06\n",
       "Toronto Raptors         4.741174e+06\n",
       "Utah Jazz               4.204006e+06\n",
       "Washington Wizards      5.088576e+06"
      ]
     },
     "execution_count": 31,
     "metadata": {},
     "output_type": "execute_result"
    }
   ],
   "source": [
    "sal[['Team','Salary']].groupby(sal['Team']).mean()"
   ]
  },
  {
   "cell_type": "code",
   "execution_count": 32,
   "metadata": {},
   "outputs": [
    {
     "data": {
      "image/png": "[encoded data removed]",
      "text/plain": [
       "<Figure size 1440x360 with 1 Axes>"
      ]
     },
     "metadata": {
      "needs_background": "light"
     },
     "output_type": "display_data"
    }
   ],
   "source": [
    "plt.figure(figsize=(20,5))\n",
    "map=sns.countplot(x='Team',data=sal,palette='bright')\n",
    "map.set_xticklabels(map.get_xticklabels(),rotation=75)\n",
    "plt.show()"
   ]
  },
  {
   "cell_type": "code",
   "execution_count": 33,
   "metadata": {},
   "outputs": [
    {
     "data": {
      "image/png": "[encoded data removed]",
      "text/plain": [
       "<Figure size 1440x360 with 1 Axes>"
      ]
     },
     "metadata": {
      "needs_background": "light"
     },
     "output_type": "display_data"
    }
   ],
   "source": [
    "plt.figure(figsize=(20,5))\n",
    "map=sns.countplot(x='Age',data=sal)\n",
    "map.set_xticklabels(map.get_xticklabels(),rotation=0)\n",
    "plt.show()"
   ]
  },
  {
   "cell_type": "code",
   "execution_count": 34,
   "metadata": {},
   "outputs": [
    {
     "data": {
      "image/png": "[encoded data removed]",
      "text/plain": [
       "<Figure size 1440x360 with 1 Axes>"
      ]
     },
     "metadata": {
      "needs_background": "light"
     },
     "output_type": "display_data"
    }
   ],
   "source": [
    "plt.figure(figsize=(20,5))\n",
    "map1=sns.barplot(x='Team',y='Salary',palette='bright',data=sal)\n",
    "map1.set_xticklabels(map1.get_xticklabels(),rotation=70)\n",
    "plt.show()"
   ]
  },
  {
   "cell_type": "code",
   "execution_count": 35,
   "metadata": {},
   "outputs": [
    {
     "data": {
      "text/plain": [
       "<function matplotlib.pyplot.show(*args, **kw)>"
      ]
     },
     "execution_count": 35,
     "metadata": {},
     "output_type": "execute_result"
    },
    {
     "data": {
      "image/png": "[encoded data removed]",
      "text/plain": [
       "<Figure size 432x288 with 1 Axes>"
      ]
     },
     "metadata": {},
     "output_type": "display_data"
    }
   ],
   "source": [
    "sns.set(style='darkgrid')\n",
    "map2=sns.barplot(x='Position',y='Salary',data=sal,palette='bright')\n",
    "map2.set_xticklabels(map2.get_xticklabels(),rotation=0)\n",
    "plt.show"
   ]
  },
  {
   "cell_type": "code",
   "execution_count": 36,
   "metadata": {},
   "outputs": [
    {
     "data": {
      "text/plain": [
       "<matplotlib.axes._subplots.AxesSubplot at 0x1ac056f82c8>"
      ]
     },
     "execution_count": 36,
     "metadata": {},
     "output_type": "execute_result"
    },
    {
     "data": {
      "image/png": "[encoded data removed]",
      "text/plain": [
       "<Figure size 1080x360 with 1 Axes>"
      ]
     },
     "metadata": {},
     "output_type": "display_data"
    }
   ],
   "source": [
    "plt.figure(figsize=(15,5))\n",
    "sns.lineplot(x='Position',y='Salary',data=sal,palette='bright',color='c')\n"
   ]
  },
  {
   "cell_type": "code",
   "execution_count": 37,
   "metadata": {},
   "outputs": [
    {
     "data": {
      "image/png": "[encoded data removed]",
      "text/plain": [
       "<Figure size 1296x504 with 1 Axes>"
      ]
     },
     "metadata": {},
     "output_type": "display_data"
    }
   ],
   "source": [
    "plt.figure(figsize=(18,7))\n",
    "sns.lineplot(x='Age',y='Salary',data=sal,palette='bright',color='salmon')\n",
    "plt.show()"
   ]
  },
  {
   "cell_type": "code",
   "execution_count": 38,
   "metadata": {},
   "outputs": [
    {
     "data": {
      "text/plain": [
       "<matplotlib.axes._subplots.AxesSubplot at 0x1ac05c32388>"
      ]
     },
     "execution_count": 38,
     "metadata": {},
     "output_type": "execute_result"
    },
    {
     "data": {
      "image/png": "[encoded data removed]",
      "text/plain": [
       "<Figure size 1080x360 with 1 Axes>"
      ]
     },
     "metadata": {},
     "output_type": "display_data"
    }
   ],
   "source": [
    "plt.figure(figsize=(15,5))\n",
    "sns.lineplot(x='Position',y='Age',data=sal,palette='bright',color='c')\n"
   ]
  },
  {
   "cell_type": "code",
   "execution_count": 39,
   "metadata": {},
   "outputs": [
    {
     "data": {
      "image/png": "[encoded data removed]",
      "text/plain": [
       "<Figure size 2088x576 with 1 Axes>"
      ]
     },
     "metadata": {},
     "output_type": "display_data"
    }
   ],
   "source": [
    "plt.figure(figsize=(29,8))\n",
    "m=sns.barplot(x='Days_Worked',y='Salary',data=sal,palette='bright',color='c')\n",
    "m.set_xticklabels(m.get_xticklabels(),rotation=45)\n",
    "plt.show()"
   ]
  },
  {
   "cell_type": "code",
   "execution_count": 40,
   "metadata": {},
   "outputs": [
    {
     "name": "stdout",
     "output_type": "stream",
     "text": [
      "<class 'pandas.core.frame.DataFrame'>\n",
      "RangeIndex: 457 entries, 0 to 456\n",
      "Data columns (total 6 columns):\n",
      "Team           457 non-null object\n",
      "Position       457 non-null object\n",
      "Age            457 non-null int64\n",
      "Days_Worked    457 non-null int64\n",
      "College        457 non-null object\n",
      "Salary         457 non-null float64\n",
      "dtypes: float64(1), int64(2), object(3)\n",
      "memory usage: 21.5+ KB\n"
     ]
    }
   ],
   "source": [
    "sal.info()"
   ]
  },
  {
   "cell_type": "code",
   "execution_count": 41,
   "metadata": {},
   "outputs": [],
   "source": [
    "for i in ('Team','Position','College'):\n",
    "    le=LabelEncoder()\n",
    "    sal[i]=le.fit_transform(sal[i])"
   ]
  },
  {
   "cell_type": "code",
   "execution_count": 42,
   "metadata": {},
   "outputs": [
    {
     "data": {
      "text/html": [
       "<div>\n",
       "<style scoped>\n",
       "    .dataframe tbody tr th:only-of-type {\n",
       "        vertical-align: middle;\n",
       "    }\n",
       "\n",
       "    .dataframe tbody tr th {\n",
       "        vertical-align: top;\n",
       "    }\n",
       "\n",
       "    .dataframe thead th {\n",
       "        text-align: right;\n",
       "    }\n",
       "</style>\n",
       "<table border=\"1\" class=\"dataframe\">\n",
       "  <thead>\n",
       "    <tr style=\"text-align: right;\">\n",
       "      <th></th>\n",
       "      <th>Team</th>\n",
       "      <th>Position</th>\n",
       "      <th>Age</th>\n",
       "      <th>Days_Worked</th>\n",
       "      <th>College</th>\n",
       "      <th>Salary</th>\n",
       "    </tr>\n",
       "  </thead>\n",
       "  <tbody>\n",
       "    <tr>\n",
       "      <td>0</td>\n",
       "      <td>1</td>\n",
       "      <td>2</td>\n",
       "      <td>25</td>\n",
       "      <td>180</td>\n",
       "      <td>93</td>\n",
       "      <td>7.730337e+06</td>\n",
       "    </tr>\n",
       "    <tr>\n",
       "      <td>1</td>\n",
       "      <td>1</td>\n",
       "      <td>3</td>\n",
       "      <td>25</td>\n",
       "      <td>235</td>\n",
       "      <td>52</td>\n",
       "      <td>6.796117e+06</td>\n",
       "    </tr>\n",
       "    <tr>\n",
       "      <td>2</td>\n",
       "      <td>1</td>\n",
       "      <td>4</td>\n",
       "      <td>27</td>\n",
       "      <td>205</td>\n",
       "      <td>8</td>\n",
       "      <td>4.842684e+06</td>\n",
       "    </tr>\n",
       "    <tr>\n",
       "      <td>3</td>\n",
       "      <td>1</td>\n",
       "      <td>4</td>\n",
       "      <td>22</td>\n",
       "      <td>185</td>\n",
       "      <td>33</td>\n",
       "      <td>1.148640e+06</td>\n",
       "    </tr>\n",
       "    <tr>\n",
       "      <td>4</td>\n",
       "      <td>1</td>\n",
       "      <td>1</td>\n",
       "      <td>29</td>\n",
       "      <td>231</td>\n",
       "      <td>45</td>\n",
       "      <td>5.000000e+06</td>\n",
       "    </tr>\n",
       "    <tr>\n",
       "      <td>...</td>\n",
       "      <td>...</td>\n",
       "      <td>...</td>\n",
       "      <td>...</td>\n",
       "      <td>...</td>\n",
       "      <td>...</td>\n",
       "      <td>...</td>\n",
       "    </tr>\n",
       "    <tr>\n",
       "      <td>452</td>\n",
       "      <td>28</td>\n",
       "      <td>1</td>\n",
       "      <td>20</td>\n",
       "      <td>234</td>\n",
       "      <td>45</td>\n",
       "      <td>2.239800e+06</td>\n",
       "    </tr>\n",
       "    <tr>\n",
       "      <td>453</td>\n",
       "      <td>28</td>\n",
       "      <td>2</td>\n",
       "      <td>26</td>\n",
       "      <td>203</td>\n",
       "      <td>11</td>\n",
       "      <td>2.433333e+06</td>\n",
       "    </tr>\n",
       "    <tr>\n",
       "      <td>454</td>\n",
       "      <td>28</td>\n",
       "      <td>2</td>\n",
       "      <td>24</td>\n",
       "      <td>179</td>\n",
       "      <td>45</td>\n",
       "      <td>9.000000e+05</td>\n",
       "    </tr>\n",
       "    <tr>\n",
       "      <td>455</td>\n",
       "      <td>28</td>\n",
       "      <td>0</td>\n",
       "      <td>26</td>\n",
       "      <td>256</td>\n",
       "      <td>45</td>\n",
       "      <td>2.900000e+06</td>\n",
       "    </tr>\n",
       "    <tr>\n",
       "      <td>456</td>\n",
       "      <td>28</td>\n",
       "      <td>0</td>\n",
       "      <td>26</td>\n",
       "      <td>231</td>\n",
       "      <td>43</td>\n",
       "      <td>9.472760e+05</td>\n",
       "    </tr>\n",
       "  </tbody>\n",
       "</table>\n",
       "<p>457 rows × 6 columns</p>\n",
       "</div>"
      ],
      "text/plain": [
       "     Team  Position  Age  Days_Worked  College        Salary\n",
       "0       1         2   25          180       93  7.730337e+06\n",
       "1       1         3   25          235       52  6.796117e+06\n",
       "2       1         4   27          205        8  4.842684e+06\n",
       "3       1         4   22          185       33  1.148640e+06\n",
       "4       1         1   29          231       45  5.000000e+06\n",
       "..    ...       ...  ...          ...      ...           ...\n",
       "452    28         1   20          234       45  2.239800e+06\n",
       "453    28         2   26          203       11  2.433333e+06\n",
       "454    28         2   24          179       45  9.000000e+05\n",
       "455    28         0   26          256       45  2.900000e+06\n",
       "456    28         0   26          231       43  9.472760e+05\n",
       "\n",
       "[457 rows x 6 columns]"
      ]
     },
     "execution_count": 42,
     "metadata": {},
     "output_type": "execute_result"
    }
   ],
   "source": [
    "sal"
   ]
  },
  {
   "cell_type": "code",
   "execution_count": 43,
   "metadata": {},
   "outputs": [
    {
     "data": {
      "text/plain": [
       "array(['Team', 'Position', 'Age', 'Days_Worked', 'College', 'Salary'],\n",
       "      dtype=object)"
      ]
     },
     "execution_count": 43,
     "metadata": {},
     "output_type": "execute_result"
    }
   ],
   "source": [
    "cl=sal.columns.values\n",
    "cl"
   ]
  },
  {
   "cell_type": "code",
   "execution_count": 44,
   "metadata": {},
   "outputs": [
    {
     "data": {
      "image/png": "[encoded data removed]",
      "text/plain": [
       "<Figure size 1368x720 with 5 Axes>"
      ]
     },
     "metadata": {},
     "output_type": "display_data"
    }
   ],
   "source": [
    "plt.figure(figsize=(19,10))\n",
    "for i in range (0,5):\n",
    "    plt.subplot(2,3,i+1)\n",
    "    sns.boxplot(sal[cl[i]],orient='v')"
   ]
  },
  {
   "cell_type": "code",
   "execution_count": 45,
   "metadata": {},
   "outputs": [
    {
     "data": {
      "text/plain": [
       "array([[1.57366745e+00, 5.13811794e-02, 4.40701238e-01, 1.57645405e+00,\n",
       "        1.26761224e+00, 5.59609022e-01],\n",
       "       [1.57366745e+00, 6.60170305e-01, 4.40701238e-01, 5.11666342e-01,\n",
       "        1.09591201e-01, 3.78563045e-01],\n",
       "       [1.57366745e+00, 1.37172179e+00, 1.39273529e-02, 6.27308418e-01,\n",
       "        1.58756562e+00, 1.80484475e-16],\n",
       "       ...,\n",
       "       [1.56882854e+00, 5.13811794e-02, 6.68015534e-01, 1.61441988e+00,\n",
       "        3.44723495e-01, 7.64067455e-01],\n",
       "       [1.56882854e+00, 1.47448415e+00, 2.13386943e-01, 1.30894867e+00,\n",
       "        3.44723495e-01, 3.76479997e-01],\n",
       "       [1.56882854e+00, 1.47448415e+00, 2.13386943e-01, 3.59803041e-01,\n",
       "        4.11904150e-01, 7.54905662e-01]])"
      ]
     },
     "execution_count": 45,
     "metadata": {},
     "output_type": "execute_result"
    }
   ],
   "source": [
    "z=np.abs(zscore(sal))\n",
    "z"
   ]
  },
  {
   "cell_type": "code",
   "execution_count": 46,
   "metadata": {},
   "outputs": [
    {
     "name": "stdout",
     "output_type": "stream",
     "text": [
      "(array([ 33, 100, 109, 169, 251, 339, 405], dtype=int64), array([5, 5, 5, 5, 5, 5, 3], dtype=int64))\n"
     ]
    }
   ],
   "source": [
    "print(np.where(z>3))"
   ]
  },
  {
   "cell_type": "code",
   "execution_count": 47,
   "metadata": {},
   "outputs": [
    {
     "data": {
      "text/plain": [
       "3.49454973850236"
      ]
     },
     "execution_count": 47,
     "metadata": {},
     "output_type": "execute_result"
    }
   ],
   "source": [
    "z[33][5]"
   ]
  },
  {
   "cell_type": "code",
   "execution_count": 48,
   "metadata": {},
   "outputs": [
    {
     "data": {
      "text/html": [
       "<div>\n",
       "<style scoped>\n",
       "    .dataframe tbody tr th:only-of-type {\n",
       "        vertical-align: middle;\n",
       "    }\n",
       "\n",
       "    .dataframe tbody tr th {\n",
       "        vertical-align: top;\n",
       "    }\n",
       "\n",
       "    .dataframe thead th {\n",
       "        text-align: right;\n",
       "    }\n",
       "</style>\n",
       "<table border=\"1\" class=\"dataframe\">\n",
       "  <thead>\n",
       "    <tr style=\"text-align: right;\">\n",
       "      <th></th>\n",
       "      <th>Team</th>\n",
       "      <th>Position</th>\n",
       "      <th>Age</th>\n",
       "      <th>Days_Worked</th>\n",
       "      <th>College</th>\n",
       "      <th>Salary</th>\n",
       "    </tr>\n",
       "  </thead>\n",
       "  <tbody>\n",
       "    <tr>\n",
       "      <td>0</td>\n",
       "      <td>1</td>\n",
       "      <td>2</td>\n",
       "      <td>25</td>\n",
       "      <td>180</td>\n",
       "      <td>93</td>\n",
       "      <td>7.730337e+06</td>\n",
       "    </tr>\n",
       "    <tr>\n",
       "      <td>1</td>\n",
       "      <td>1</td>\n",
       "      <td>3</td>\n",
       "      <td>25</td>\n",
       "      <td>235</td>\n",
       "      <td>52</td>\n",
       "      <td>6.796117e+06</td>\n",
       "    </tr>\n",
       "    <tr>\n",
       "      <td>2</td>\n",
       "      <td>1</td>\n",
       "      <td>4</td>\n",
       "      <td>27</td>\n",
       "      <td>205</td>\n",
       "      <td>8</td>\n",
       "      <td>4.842684e+06</td>\n",
       "    </tr>\n",
       "    <tr>\n",
       "      <td>3</td>\n",
       "      <td>1</td>\n",
       "      <td>4</td>\n",
       "      <td>22</td>\n",
       "      <td>185</td>\n",
       "      <td>33</td>\n",
       "      <td>1.148640e+06</td>\n",
       "    </tr>\n",
       "    <tr>\n",
       "      <td>4</td>\n",
       "      <td>1</td>\n",
       "      <td>1</td>\n",
       "      <td>29</td>\n",
       "      <td>231</td>\n",
       "      <td>45</td>\n",
       "      <td>5.000000e+06</td>\n",
       "    </tr>\n",
       "    <tr>\n",
       "      <td>...</td>\n",
       "      <td>...</td>\n",
       "      <td>...</td>\n",
       "      <td>...</td>\n",
       "      <td>...</td>\n",
       "      <td>...</td>\n",
       "      <td>...</td>\n",
       "    </tr>\n",
       "    <tr>\n",
       "      <td>452</td>\n",
       "      <td>28</td>\n",
       "      <td>1</td>\n",
       "      <td>20</td>\n",
       "      <td>234</td>\n",
       "      <td>45</td>\n",
       "      <td>2.239800e+06</td>\n",
       "    </tr>\n",
       "    <tr>\n",
       "      <td>453</td>\n",
       "      <td>28</td>\n",
       "      <td>2</td>\n",
       "      <td>26</td>\n",
       "      <td>203</td>\n",
       "      <td>11</td>\n",
       "      <td>2.433333e+06</td>\n",
       "    </tr>\n",
       "    <tr>\n",
       "      <td>454</td>\n",
       "      <td>28</td>\n",
       "      <td>2</td>\n",
       "      <td>24</td>\n",
       "      <td>179</td>\n",
       "      <td>45</td>\n",
       "      <td>9.000000e+05</td>\n",
       "    </tr>\n",
       "    <tr>\n",
       "      <td>455</td>\n",
       "      <td>28</td>\n",
       "      <td>0</td>\n",
       "      <td>26</td>\n",
       "      <td>256</td>\n",
       "      <td>45</td>\n",
       "      <td>2.900000e+06</td>\n",
       "    </tr>\n",
       "    <tr>\n",
       "      <td>456</td>\n",
       "      <td>28</td>\n",
       "      <td>0</td>\n",
       "      <td>26</td>\n",
       "      <td>231</td>\n",
       "      <td>43</td>\n",
       "      <td>9.472760e+05</td>\n",
       "    </tr>\n",
       "  </tbody>\n",
       "</table>\n",
       "<p>450 rows × 6 columns</p>\n",
       "</div>"
      ],
      "text/plain": [
       "     Team  Position  Age  Days_Worked  College        Salary\n",
       "0       1         2   25          180       93  7.730337e+06\n",
       "1       1         3   25          235       52  6.796117e+06\n",
       "2       1         4   27          205        8  4.842684e+06\n",
       "3       1         4   22          185       33  1.148640e+06\n",
       "4       1         1   29          231       45  5.000000e+06\n",
       "..    ...       ...  ...          ...      ...           ...\n",
       "452    28         1   20          234       45  2.239800e+06\n",
       "453    28         2   26          203       11  2.433333e+06\n",
       "454    28         2   24          179       45  9.000000e+05\n",
       "455    28         0   26          256       45  2.900000e+06\n",
       "456    28         0   26          231       43  9.472760e+05\n",
       "\n",
       "[450 rows x 6 columns]"
      ]
     },
     "execution_count": 48,
     "metadata": {},
     "output_type": "execute_result"
    }
   ],
   "source": [
    "salary=sal[(z<3).all(axis=1)]\n",
    "salary"
   ]
  },
  {
   "cell_type": "code",
   "execution_count": 49,
   "metadata": {},
   "outputs": [
    {
     "name": "stdout",
     "output_type": "stream",
     "text": [
      "the shape of sal is  (457, 6) and shape of salary is (450, 6)\n"
     ]
    }
   ],
   "source": [
    "print('the shape of sal is ',sal.shape ,'and shape of salary is', salary.shape)"
   ]
  },
  {
   "cell_type": "code",
   "execution_count": 50,
   "metadata": {},
   "outputs": [
    {
     "data": {
      "text/plain": [
       "Team          -0.007368\n",
       "Position      -0.014795\n",
       "Age            0.626349\n",
       "Days_Worked    0.113788\n",
       "College        0.261126\n",
       "Salary         1.595511\n",
       "dtype: float64"
      ]
     },
     "execution_count": 50,
     "metadata": {},
     "output_type": "execute_result"
    }
   ],
   "source": [
    "sal.skew()"
   ]
  },
  {
   "cell_type": "code",
   "execution_count": 51,
   "metadata": {},
   "outputs": [],
   "source": [
    "for i in sal.columns:\n",
    "    if sal.skew().loc[i]>0.55:\n",
    "        sal[i]=np.log1p(sal[i])"
   ]
  },
  {
   "cell_type": "code",
   "execution_count": 52,
   "metadata": {},
   "outputs": [
    {
     "data": {
      "text/plain": [
       "Team          -0.007368\n",
       "Position      -0.014795\n",
       "Age            0.284946\n",
       "Days_Worked    0.113788\n",
       "College        0.261126\n",
       "Salary        -0.450091\n",
       "dtype: float64"
      ]
     },
     "execution_count": 52,
     "metadata": {},
     "output_type": "execute_result"
    }
   ],
   "source": [
    "sal.skew()"
   ]
  },
  {
   "cell_type": "code",
   "execution_count": 53,
   "metadata": {},
   "outputs": [
    {
     "data": {
      "text/html": [
       "<div>\n",
       "<style scoped>\n",
       "    .dataframe tbody tr th:only-of-type {\n",
       "        vertical-align: middle;\n",
       "    }\n",
       "\n",
       "    .dataframe tbody tr th {\n",
       "        vertical-align: top;\n",
       "    }\n",
       "\n",
       "    .dataframe thead th {\n",
       "        text-align: right;\n",
       "    }\n",
       "</style>\n",
       "<table border=\"1\" class=\"dataframe\">\n",
       "  <thead>\n",
       "    <tr style=\"text-align: right;\">\n",
       "      <th></th>\n",
       "      <th>Team</th>\n",
       "      <th>Position</th>\n",
       "      <th>Age</th>\n",
       "      <th>Days_Worked</th>\n",
       "      <th>College</th>\n",
       "      <th>Salary</th>\n",
       "    </tr>\n",
       "  </thead>\n",
       "  <tbody>\n",
       "    <tr>\n",
       "      <td>Team</td>\n",
       "      <td>1.000000</td>\n",
       "      <td>-0.009638</td>\n",
       "      <td>-0.049428</td>\n",
       "      <td>-0.001000</td>\n",
       "      <td>0.035438</td>\n",
       "      <td>-0.038983</td>\n",
       "    </tr>\n",
       "    <tr>\n",
       "      <td>Position</td>\n",
       "      <td>-0.009638</td>\n",
       "      <td>1.000000</td>\n",
       "      <td>-0.068663</td>\n",
       "      <td>-0.590791</td>\n",
       "      <td>0.036262</td>\n",
       "      <td>-0.126045</td>\n",
       "    </tr>\n",
       "    <tr>\n",
       "      <td>Age</td>\n",
       "      <td>-0.049428</td>\n",
       "      <td>-0.068663</td>\n",
       "      <td>1.000000</td>\n",
       "      <td>0.086766</td>\n",
       "      <td>-0.061303</td>\n",
       "      <td>0.205245</td>\n",
       "    </tr>\n",
       "    <tr>\n",
       "      <td>Days_Worked</td>\n",
       "      <td>-0.001000</td>\n",
       "      <td>-0.590791</td>\n",
       "      <td>0.086766</td>\n",
       "      <td>1.000000</td>\n",
       "      <td>-0.087271</td>\n",
       "      <td>0.125743</td>\n",
       "    </tr>\n",
       "    <tr>\n",
       "      <td>College</td>\n",
       "      <td>0.035438</td>\n",
       "      <td>0.036262</td>\n",
       "      <td>-0.061303</td>\n",
       "      <td>-0.087271</td>\n",
       "      <td>1.000000</td>\n",
       "      <td>-0.063189</td>\n",
       "    </tr>\n",
       "    <tr>\n",
       "      <td>Salary</td>\n",
       "      <td>-0.038983</td>\n",
       "      <td>-0.126045</td>\n",
       "      <td>0.205245</td>\n",
       "      <td>0.125743</td>\n",
       "      <td>-0.063189</td>\n",
       "      <td>1.000000</td>\n",
       "    </tr>\n",
       "  </tbody>\n",
       "</table>\n",
       "</div>"
      ],
      "text/plain": [
       "                 Team  Position       Age  Days_Worked   College    Salary\n",
       "Team         1.000000 -0.009638 -0.049428    -0.001000  0.035438 -0.038983\n",
       "Position    -0.009638  1.000000 -0.068663    -0.590791  0.036262 -0.126045\n",
       "Age         -0.049428 -0.068663  1.000000     0.086766 -0.061303  0.205245\n",
       "Days_Worked -0.001000 -0.590791  0.086766     1.000000 -0.087271  0.125743\n",
       "College      0.035438  0.036262 -0.061303    -0.087271  1.000000 -0.063189\n",
       "Salary      -0.038983 -0.126045  0.205245     0.125743 -0.063189  1.000000"
      ]
     },
     "execution_count": 53,
     "metadata": {},
     "output_type": "execute_result"
    }
   ],
   "source": [
    "sal_corr=sal.corr()\n",
    "sal_corr"
   ]
  },
  {
   "cell_type": "code",
   "execution_count": 54,
   "metadata": {},
   "outputs": [
    {
     "data": {
      "image/png": "[encoded data removed]",
      "text/plain": [
       "<Figure size 576x720 with 1 Axes>"
      ]
     },
     "metadata": {},
     "output_type": "display_data"
    }
   ],
   "source": [
    "plt.figure(figsize=(8,10))\n",
    "sns.heatmap(sal_corr,cmap='Blues',square=True,annot=True,fmt='.2f',cbar=False)\n",
    "plt.show()"
   ]
  },
  {
   "cell_type": "code",
   "execution_count": 55,
   "metadata": {
    "scrolled": true
   },
   "outputs": [
    {
     "data": {
      "text/plain": [
       "<seaborn.axisgrid.PairGrid at 0x1ac05d71d08>"
      ]
     },
     "execution_count": 55,
     "metadata": {},
     "output_type": "execute_result"
    },
    {
     "data": {
      "image/png": "[encoded data removed]",
      "text/plain": [
       "<Figure size 1684.8x1296 with 42 Axes>"
      ]
     },
     "metadata": {},
     "output_type": "display_data"
    }
   ],
   "source": [
    "sns.set(style='ticks')\n",
    "sns.pairplot(sal_corr,height=3,aspect=1.3)"
   ]
  },
  {
   "cell_type": "code",
   "execution_count": 56,
   "metadata": {},
   "outputs": [
    {
     "data": {
      "text/html": [
       "<div>\n",
       "<style scoped>\n",
       "    .dataframe tbody tr th:only-of-type {\n",
       "        vertical-align: middle;\n",
       "    }\n",
       "\n",
       "    .dataframe tbody tr th {\n",
       "        vertical-align: top;\n",
       "    }\n",
       "\n",
       "    .dataframe thead th {\n",
       "        text-align: right;\n",
       "    }\n",
       "</style>\n",
       "<table border=\"1\" class=\"dataframe\">\n",
       "  <thead>\n",
       "    <tr style=\"text-align: right;\">\n",
       "      <th></th>\n",
       "      <th>Team</th>\n",
       "      <th>Position</th>\n",
       "      <th>Age</th>\n",
       "      <th>Days_Worked</th>\n",
       "      <th>College</th>\n",
       "      <th>Salary</th>\n",
       "    </tr>\n",
       "  </thead>\n",
       "  <tbody>\n",
       "    <tr>\n",
       "      <td>0</td>\n",
       "      <td>1</td>\n",
       "      <td>2</td>\n",
       "      <td>3.258097</td>\n",
       "      <td>180</td>\n",
       "      <td>93</td>\n",
       "      <td>15.860663</td>\n",
       "    </tr>\n",
       "    <tr>\n",
       "      <td>1</td>\n",
       "      <td>1</td>\n",
       "      <td>3</td>\n",
       "      <td>3.258097</td>\n",
       "      <td>235</td>\n",
       "      <td>52</td>\n",
       "      <td>15.731862</td>\n",
       "    </tr>\n",
       "    <tr>\n",
       "      <td>2</td>\n",
       "      <td>1</td>\n",
       "      <td>4</td>\n",
       "      <td>3.332205</td>\n",
       "      <td>205</td>\n",
       "      <td>8</td>\n",
       "      <td>15.392980</td>\n",
       "    </tr>\n",
       "    <tr>\n",
       "      <td>3</td>\n",
       "      <td>1</td>\n",
       "      <td>4</td>\n",
       "      <td>3.135494</td>\n",
       "      <td>185</td>\n",
       "      <td>33</td>\n",
       "      <td>13.954090</td>\n",
       "    </tr>\n",
       "    <tr>\n",
       "      <td>4</td>\n",
       "      <td>1</td>\n",
       "      <td>1</td>\n",
       "      <td>3.401197</td>\n",
       "      <td>231</td>\n",
       "      <td>45</td>\n",
       "      <td>15.424949</td>\n",
       "    </tr>\n",
       "    <tr>\n",
       "      <td>...</td>\n",
       "      <td>...</td>\n",
       "      <td>...</td>\n",
       "      <td>...</td>\n",
       "      <td>...</td>\n",
       "      <td>...</td>\n",
       "      <td>...</td>\n",
       "    </tr>\n",
       "    <tr>\n",
       "      <td>452</td>\n",
       "      <td>28</td>\n",
       "      <td>1</td>\n",
       "      <td>3.044522</td>\n",
       "      <td>234</td>\n",
       "      <td>45</td>\n",
       "      <td>14.621898</td>\n",
       "    </tr>\n",
       "    <tr>\n",
       "      <td>453</td>\n",
       "      <td>28</td>\n",
       "      <td>2</td>\n",
       "      <td>3.295837</td>\n",
       "      <td>203</td>\n",
       "      <td>11</td>\n",
       "      <td>14.704773</td>\n",
       "    </tr>\n",
       "    <tr>\n",
       "      <td>454</td>\n",
       "      <td>28</td>\n",
       "      <td>2</td>\n",
       "      <td>3.218876</td>\n",
       "      <td>179</td>\n",
       "      <td>45</td>\n",
       "      <td>13.710151</td>\n",
       "    </tr>\n",
       "    <tr>\n",
       "      <td>455</td>\n",
       "      <td>28</td>\n",
       "      <td>0</td>\n",
       "      <td>3.295837</td>\n",
       "      <td>256</td>\n",
       "      <td>45</td>\n",
       "      <td>14.880222</td>\n",
       "    </tr>\n",
       "    <tr>\n",
       "      <td>456</td>\n",
       "      <td>28</td>\n",
       "      <td>0</td>\n",
       "      <td>3.295837</td>\n",
       "      <td>231</td>\n",
       "      <td>43</td>\n",
       "      <td>13.761347</td>\n",
       "    </tr>\n",
       "  </tbody>\n",
       "</table>\n",
       "<p>457 rows × 6 columns</p>\n",
       "</div>"
      ],
      "text/plain": [
       "     Team  Position       Age  Days_Worked  College     Salary\n",
       "0       1         2  3.258097          180       93  15.860663\n",
       "1       1         3  3.258097          235       52  15.731862\n",
       "2       1         4  3.332205          205        8  15.392980\n",
       "3       1         4  3.135494          185       33  13.954090\n",
       "4       1         1  3.401197          231       45  15.424949\n",
       "..    ...       ...       ...          ...      ...        ...\n",
       "452    28         1  3.044522          234       45  14.621898\n",
       "453    28         2  3.295837          203       11  14.704773\n",
       "454    28         2  3.218876          179       45  13.710151\n",
       "455    28         0  3.295837          256       45  14.880222\n",
       "456    28         0  3.295837          231       43  13.761347\n",
       "\n",
       "[457 rows x 6 columns]"
      ]
     },
     "execution_count": 56,
     "metadata": {},
     "output_type": "execute_result"
    }
   ],
   "source": [
    "sal"
   ]
  },
  {
   "cell_type": "code",
   "execution_count": 57,
   "metadata": {},
   "outputs": [],
   "source": [
    "x=sal.iloc[:,0:-1]\n",
    "y=sal.iloc[:,-1]"
   ]
  },
  {
   "cell_type": "code",
   "execution_count": 58,
   "metadata": {
    "scrolled": true
   },
   "outputs": [
    {
     "name": "stdout",
     "output_type": "stream",
     "text": [
      "     Team  Position       Age  Days_Worked  College\n",
      "0       1         2  3.258097          180       93\n",
      "1       1         3  3.258097          235       52\n",
      "2       1         4  3.332205          205        8\n",
      "3       1         4  3.135494          185       33\n",
      "4       1         1  3.401197          231       45\n",
      "..    ...       ...       ...          ...      ...\n",
      "452    28         1  3.044522          234       45\n",
      "453    28         2  3.295837          203       11\n",
      "454    28         2  3.218876          179       45\n",
      "455    28         0  3.295837          256       45\n",
      "456    28         0  3.295837          231       43\n",
      "\n",
      "[457 rows x 5 columns] \n",
      " shape:  (457, 5)\n"
     ]
    }
   ],
   "source": [
    "print(x  ,'\\n shape: ', x.shape)"
   ]
  },
  {
   "cell_type": "code",
   "execution_count": 59,
   "metadata": {},
   "outputs": [
    {
     "data": {
      "text/plain": [
       "array([[-1.57366745, -0.05138118, -0.38989903, -1.57645405,  1.26761224],\n",
       "       [-1.57366745,  0.66017031, -0.38989903,  0.51166634, -0.1095912 ],\n",
       "       [-1.57366745,  1.37172179,  0.09215822, -0.62730842, -1.58756562],\n",
       "       ...,\n",
       "       [ 1.56882854, -0.05138118, -0.64502177, -1.61441988, -0.34472349],\n",
       "       [ 1.56882854, -1.47448415, -0.14440589,  1.30894867, -0.34472349],\n",
       "       [ 1.56882854, -1.47448415, -0.14440589,  0.35980304, -0.41190415]])"
      ]
     },
     "execution_count": 59,
     "metadata": {},
     "output_type": "execute_result"
    }
   ],
   "source": [
    "ss=StandardScaler()\n",
    "x=ss.fit_transform(x)\n",
    "x"
   ]
  },
  {
   "cell_type": "code",
   "execution_count": 60,
   "metadata": {},
   "outputs": [
    {
     "data": {
      "text/plain": [
       "array([[15.86066315],\n",
       "       [15.73186212],\n",
       "       [15.3929799 ],\n",
       "       [13.95409006],\n",
       "       [15.42494867],\n",
       "       [16.30041729],\n",
       "       [13.97333534],\n",
       "       [14.58800528],\n",
       "       [14.41674035],\n",
       "       [15.04837427],\n",
       "       [14.75912887],\n",
       "       [15.74889545],\n",
       "       [15.04676122],\n",
       "       [14.37503548],\n",
       "       [14.77753001],\n",
       "       [15.04676122],\n",
       "       [13.64716291],\n",
       "       [14.22097633],\n",
       "       [14.10480208],\n",
       "       [15.65606035],\n",
       "       [14.28541481],\n",
       "       [11.80720572],\n",
       "       [14.22097633],\n",
       "       [16.79557071],\n",
       "       [13.9467502 ],\n",
       "       [13.76134683],\n",
       "       [13.79668343],\n",
       "       [13.76134683],\n",
       "       [13.76134683],\n",
       "       [16.23462955],\n",
       "       [15.89495222],\n",
       "       [14.30744506],\n",
       "       [10.33815541],\n",
       "       [16.94555521],\n",
       "       [15.81737062],\n",
       "       [13.64716291],\n",
       "       [13.64716291],\n",
       "       [14.26808887],\n",
       "       [16.35316785],\n",
       "       [15.13726666],\n",
       "       [15.23420459],\n",
       "       [14.85011787],\n",
       "       [14.30827994],\n",
       "       [13.76134683],\n",
       "       [15.20180517],\n",
       "       [12.02818325],\n",
       "       [15.3929799 ],\n",
       "       [13.76134683],\n",
       "       [13.81551156],\n",
       "       [15.34741084],\n",
       "       [13.64716291],\n",
       "       [13.88705883],\n",
       "       [15.68731289],\n",
       "       [14.57854428],\n",
       "       [13.17133257],\n",
       "       [15.0561434 ],\n",
       "       [15.33779476],\n",
       "       [13.76134683],\n",
       "       [14.8696278 ],\n",
       "       [13.76134683],\n",
       "       [13.17133257],\n",
       "       [14.85011787],\n",
       "       [14.23684967],\n",
       "       [16.42558042],\n",
       "       [16.12308329],\n",
       "       [14.73180169],\n",
       "       [15.76142085],\n",
       "       [16.30041729],\n",
       "       [14.42636304],\n",
       "       [15.65107573],\n",
       "       [13.38472918],\n",
       "       [15.08356121],\n",
       "       [14.88022164],\n",
       "       [12.40973976],\n",
       "       [15.35462965],\n",
       "       [14.22719694],\n",
       "       [14.73180169],\n",
       "       [15.16964297],\n",
       "       [16.44017922],\n",
       "       [13.76134683],\n",
       "       [16.24655808],\n",
       "       [14.5130227 ],\n",
       "       [16.47303005],\n",
       "       [16.27599276],\n",
       "       [15.5281774 ],\n",
       "       [13.93946208],\n",
       "       [13.64716291],\n",
       "       [14.05528701],\n",
       "       [15.15445148],\n",
       "       [16.55641516],\n",
       "       [12.57679447],\n",
       "       [13.91136877],\n",
       "       [11.62128647],\n",
       "       [15.5515813 ],\n",
       "       [13.17133257],\n",
       "       [16.08246858],\n",
       "       [16.75508123],\n",
       "       [13.91136877],\n",
       "       [16.79557071],\n",
       "       [13.76134683],\n",
       "       [16.88210643],\n",
       "       [15.03220243],\n",
       "       [13.76182177],\n",
       "       [15.77349057],\n",
       "       [14.95038952],\n",
       "       [13.96365553],\n",
       "       [14.91412318],\n",
       "       [13.64716291],\n",
       "       [13.45883704],\n",
       "       [17.03438642],\n",
       "       [13.64716291],\n",
       "       [16.5622825 ],\n",
       "       [13.17133257],\n",
       "       [14.36030331],\n",
       "       [13.96013111],\n",
       "       [14.95725928],\n",
       "       [15.44536287],\n",
       "       [13.79668343],\n",
       "       [15.76142085],\n",
       "       [13.76134683],\n",
       "       [15.46784894],\n",
       "       [16.41820032],\n",
       "       [14.57061841],\n",
       "       [12.2365679 ],\n",
       "       [16.38045999],\n",
       "       [13.96406935],\n",
       "       [13.79668343],\n",
       "       [16.41820032],\n",
       "       [15.15238382],\n",
       "       [13.84991295],\n",
       "       [10.92814827],\n",
       "       [13.76134683],\n",
       "       [15.52025883],\n",
       "       [15.52025883],\n",
       "       [14.52899013],\n",
       "       [11.33137961],\n",
       "       [13.79668343],\n",
       "       [13.83081485],\n",
       "       [15.61732052],\n",
       "       [14.18651396],\n",
       "       [14.8579711 ],\n",
       "       [15.03878027],\n",
       "       [15.4276568 ],\n",
       "       [16.57880314],\n",
       "       [13.76134683],\n",
       "       [13.17133257],\n",
       "       [16.33345716],\n",
       "       [15.85673102],\n",
       "       [14.96500637],\n",
       "       [13.64716291],\n",
       "       [16.06680246],\n",
       "       [13.64716291],\n",
       "       [14.62644122],\n",
       "       [16.61324917],\n",
       "       [15.31958818],\n",
       "       [13.17133257],\n",
       "       [15.82355827],\n",
       "       [15.95557684],\n",
       "       [13.76134683],\n",
       "       [14.68279632],\n",
       "       [15.5281774 ],\n",
       "       [13.83081485],\n",
       "       [16.41076534],\n",
       "       [14.14564921],\n",
       "       [16.81588529],\n",
       "       [14.24461472],\n",
       "       [13.95290187],\n",
       "       [15.91879435],\n",
       "       [16.61324923],\n",
       "       [16.94972139],\n",
       "       [13.76134683],\n",
       "       [15.3929799 ],\n",
       "       [13.76134683],\n",
       "       [14.05924153],\n",
       "       [16.79557071],\n",
       "       [11.61905868],\n",
       "       [15.41489834],\n",
       "       [16.01148613],\n",
       "       [15.42494867],\n",
       "       [16.47303005],\n",
       "       [14.55744838],\n",
       "       [14.73180169],\n",
       "       [15.68731289],\n",
       "       [14.59045245],\n",
       "       [11.62128647],\n",
       "       [14.04060501],\n",
       "       [14.87737622],\n",
       "       [13.64716291],\n",
       "       [15.00094009],\n",
       "       [16.58809934],\n",
       "       [13.3046866 ],\n",
       "       [16.44833745],\n",
       "       [14.86000486],\n",
       "       [15.65128707],\n",
       "       [15.42494867],\n",
       "       [14.91412318],\n",
       "       [15.21422769],\n",
       "       [13.82251298],\n",
       "       [16.14765455],\n",
       "       [16.65576418],\n",
       "       [15.89495222],\n",
       "       [15.20180517],\n",
       "       [14.12217212],\n",
       "       [12.263138  ],\n",
       "       [15.20180517],\n",
       "       [15.29580196],\n",
       "       [13.91082165],\n",
       "       [15.76142085],\n",
       "       [14.673223  ],\n",
       "       [13.64716291],\n",
       "       [13.82251298],\n",
       "       [14.48536915],\n",
       "       [14.91412318],\n",
       "       [14.69057963],\n",
       "       [13.76134683],\n",
       "       [14.32374944],\n",
       "       [14.89501546],\n",
       "       [13.65885792],\n",
       "       [15.89495222],\n",
       "       [16.50335812],\n",
       "       [16.61324917],\n",
       "       [12.59584188],\n",
       "       [13.64716291],\n",
       "       [15.45498114],\n",
       "       [14.56186433],\n",
       "       [15.70258036],\n",
       "       [14.36538823],\n",
       "       [14.18638491],\n",
       "       [15.27179752],\n",
       "       [13.91136877],\n",
       "       [15.18930563],\n",
       "       [15.21507819],\n",
       "       [14.55060166],\n",
       "       [16.61324917],\n",
       "       [14.05528701],\n",
       "       [13.17133257],\n",
       "       [15.93577429],\n",
       "       [15.46416938],\n",
       "       [16.547375  ],\n",
       "       [13.64716291],\n",
       "       [13.76134683],\n",
       "       [15.49800839],\n",
       "       [15.91879447],\n",
       "       [12.63306438],\n",
       "       [15.68523165],\n",
       "       [15.92322075],\n",
       "       [14.03281389],\n",
       "       [14.31410225],\n",
       "       [12.20907314],\n",
       "       [16.57275967],\n",
       "       [13.81551156],\n",
       "       [16.92275581],\n",
       "       [14.7276049 ],\n",
       "       [14.97546721],\n",
       "       [14.64327866],\n",
       "       [13.76134683],\n",
       "       [13.76134683],\n",
       "       [14.15526383],\n",
       "       [15.45616415],\n",
       "       [15.42494867],\n",
       "       [15.08034353],\n",
       "       [15.2235713 ],\n",
       "       [16.07606741],\n",
       "       [13.46012478],\n",
       "       [15.3929799 ],\n",
       "       [16.79551992],\n",
       "       [13.64716291],\n",
       "       [13.99903223],\n",
       "       [14.02320823],\n",
       "       [15.3929799 ],\n",
       "       [15.3929799 ],\n",
       "       [16.08128186],\n",
       "       [16.01273525],\n",
       "       [15.3929799 ],\n",
       "       [15.51369186],\n",
       "       [15.29475049],\n",
       "       [15.95557684],\n",
       "       [16.03617862],\n",
       "       [13.91136877],\n",
       "       [14.92635704],\n",
       "       [14.8628299 ],\n",
       "       [15.77147443],\n",
       "       [12.04287113],\n",
       "       [13.96811061],\n",
       "       [13.64716291],\n",
       "       [16.18898152],\n",
       "       [13.64716291],\n",
       "       [14.09314305],\n",
       "       [16.55725546],\n",
       "       [13.83081485],\n",
       "       [16.1759407 ],\n",
       "       [10.92814827],\n",
       "       [13.76134683],\n",
       "       [15.0339849 ],\n",
       "       [16.79557071],\n",
       "       [13.94906283],\n",
       "       [13.76134683],\n",
       "       [15.83041371],\n",
       "       [15.47373883],\n",
       "       [14.85011787],\n",
       "       [16.11809575],\n",
       "       [16.61324917],\n",
       "       [13.99783295],\n",
       "       [12.20907314],\n",
       "       [12.43221569],\n",
       "       [15.09057946],\n",
       "       [16.41355994],\n",
       "       [13.17133257],\n",
       "       [14.22043419],\n",
       "       [14.50865824],\n",
       "       [14.08134648],\n",
       "       [14.86456174],\n",
       "       [16.30041729],\n",
       "       [13.81551156],\n",
       "       [15.56409805],\n",
       "       [16.74251742],\n",
       "       [13.76134683],\n",
       "       [13.17133257],\n",
       "       [14.38275489],\n",
       "       [15.01948356],\n",
       "       [15.20180517],\n",
       "       [16.09341877],\n",
       "       [13.81551156],\n",
       "       [15.89495222],\n",
       "       [16.39005276],\n",
       "       [13.76134683],\n",
       "       [12.15191209],\n",
       "       [13.76134683],\n",
       "       [13.17133257],\n",
       "       [15.62544306],\n",
       "       [16.41820032],\n",
       "       [14.77582621],\n",
       "       [15.66103273],\n",
       "       [14.9255101 ],\n",
       "       [15.5515813 ],\n",
       "       [14.57584946],\n",
       "       [16.30041729],\n",
       "       [15.76142085],\n",
       "       [15.25159482],\n",
       "       [16.91527536],\n",
       "       [16.13314317],\n",
       "       [16.5089885 ],\n",
       "       [13.76134683],\n",
       "       [14.86456174],\n",
       "       [12.47569894],\n",
       "       [13.64716291],\n",
       "       [15.5281774 ],\n",
       "       [13.17133257],\n",
       "       [13.76134683],\n",
       "       [16.81124288],\n",
       "       [15.3929799 ],\n",
       "       [13.79668343],\n",
       "       [14.72446283],\n",
       "       [15.3929799 ],\n",
       "       [13.76134683],\n",
       "       [14.64327866],\n",
       "       [15.24382963],\n",
       "       [15.13499208],\n",
       "       [15.88237344],\n",
       "       [15.93711296],\n",
       "       [13.64716291],\n",
       "       [14.0735895 ],\n",
       "       [14.68286059],\n",
       "       [15.46272988],\n",
       "       [14.73408708],\n",
       "       [15.27412581],\n",
       "       [16.23587878],\n",
       "       [15.42494867],\n",
       "       [15.20180517],\n",
       "       [15.55504209],\n",
       "       [15.29141731],\n",
       "       [13.23875344],\n",
       "       [15.00943333],\n",
       "       [16.23297599],\n",
       "       [12.51736992],\n",
       "       [16.38045999],\n",
       "       [15.89495222],\n",
       "       [14.46796126],\n",
       "       [15.35516121],\n",
       "       [14.59045245],\n",
       "       [13.91136877],\n",
       "       [12.20907314],\n",
       "       [16.57880314],\n",
       "       [14.85011787],\n",
       "       [14.91412318],\n",
       "       [15.07775246],\n",
       "       [16.16205885],\n",
       "       [16.23462955],\n",
       "       [16.45456796],\n",
       "       [14.27576747],\n",
       "       [14.07787559],\n",
       "       [14.35184017],\n",
       "       [13.76134683],\n",
       "       [14.94763531],\n",
       "       [15.28453655],\n",
       "       [14.42636304],\n",
       "       [12.46261229],\n",
       "       [15.3929799 ],\n",
       "       [15.18922664],\n",
       "       [14.20378949],\n",
       "       [15.95557684],\n",
       "       [14.0639951 ],\n",
       "       [14.58021578],\n",
       "       [14.53672076],\n",
       "       [14.47760093],\n",
       "       [16.30871609],\n",
       "       [13.76134683],\n",
       "       [16.35711263],\n",
       "       [13.95483849],\n",
       "       [15.3929799 ],\n",
       "       [15.55660829],\n",
       "       [15.56621901],\n",
       "       [14.6392653 ],\n",
       "       [15.13726666],\n",
       "       [16.8191427 ],\n",
       "       [14.95814005],\n",
       "       [13.9467502 ],\n",
       "       [16.32103658],\n",
       "       [16.61324917],\n",
       "       [14.1960277 ],\n",
       "       [12.31442917],\n",
       "       [15.02267855],\n",
       "       [14.51936076],\n",
       "       [14.00679268],\n",
       "       [15.31958818],\n",
       "       [15.45225834],\n",
       "       [16.63356362],\n",
       "       [13.17133257],\n",
       "       [15.90029978],\n",
       "       [13.34565732],\n",
       "       [13.76134683],\n",
       "       [15.75867451],\n",
       "       [14.87817092],\n",
       "       [15.60727019],\n",
       "       [15.42814356],\n",
       "       [14.93910192],\n",
       "       [15.25919797],\n",
       "       [14.74181538],\n",
       "       [13.17133257],\n",
       "       [14.16300822],\n",
       "       [14.86456174],\n",
       "       [14.78542584],\n",
       "       [15.37890474],\n",
       "       [14.79317518],\n",
       "       [16.06295127],\n",
       "       [15.14463148],\n",
       "       [16.30041729],\n",
       "       [13.97752821],\n",
       "       [16.55049937],\n",
       "       [14.11445967],\n",
       "       [14.53335084],\n",
       "       [13.79668343],\n",
       "       [14.62189758],\n",
       "       [14.70477289],\n",
       "       [13.71015115],\n",
       "       [14.88022164],\n",
       "       [13.76134683]])"
      ]
     },
     "execution_count": 60,
     "metadata": {},
     "output_type": "execute_result"
    }
   ],
   "source": [
    "y=np.array(y)\n",
    "\n",
    "y=y.reshape(-1,1)\n",
    "y"
   ]
  },
  {
   "cell_type": "code",
   "execution_count": 61,
   "metadata": {},
   "outputs": [
    {
     "name": "stdout",
     "output_type": "stream",
     "text": [
      "the shape of x: (457, 5) \n",
      " the shape of y (457, 1)\n"
     ]
    }
   ],
   "source": [
    "print('the shape of x:', x.shape  ,'\\n the shape of y', y.shape)"
   ]
  },
  {
   "cell_type": "code",
   "execution_count": 63,
   "metadata": {},
   "outputs": [],
   "source": [
    "from sklearn.model_selection import train_test_split,GridSearchCV,cross_val_score\n",
    "\n",
    "from sklearn.linear_model import LinearRegression,Lasso\n",
    "from sklearn.tree import DecisionTreeRegressor\n",
    "from sklearn.svm import SVR\n",
    "from sklearn.neighbors import KNeighborsRegressor\n",
    "\n",
    "from sklearn.metrics import mean_squared_error,mean_absolute_error,r2_score\n",
    "\n",
    "from sklearn.ensemble import RandomForestRegressor,GradientBoostingRegressor\n"
   ]
  },
  {
   "cell_type": "code",
   "execution_count": 64,
   "metadata": {},
   "outputs": [],
   "source": [
    "#algo. to find best random state"
   ]
  },
  {
   "cell_type": "code",
   "execution_count": 65,
   "metadata": {},
   "outputs": [],
   "source": [
    "def mo(mod,x,y):\n",
    "    max_r=0\n",
    "    for i in range(33,120):\n",
    "        x_train,x_test,y_train,y_test=train_test_split(x,y,test_size=0.30,random_state=i)\n",
    "        mod.fit(x_train,y_train)\n",
    "        pred=mod.predict(x_test)\n",
    "        r2score=r2_score(y_test,pred)\n",
    "        MAE= mean_absolute_error(y_test,pred)\n",
    "        MSE= mean_squared_error(y_test,pred)\n",
    "        RMSE=np.sqrt(MSE)\n",
    "        if r2score > max_r:\n",
    "            max_r=r2score\n",
    "            random_state=i\n",
    "    print('the random state at ', mod, 'is \\n:', random_state, \n",
    "          '\\n with a r2 score of ',r2score,\n",
    "          '\\n mean abs error of ', MAE,\n",
    "          '\\n and mean squared error',MSE,\n",
    "          '\\n root mean sq error', RMSE)\n",
    "    return random_state"
   ]
  },
  {
   "cell_type": "code",
   "execution_count": 66,
   "metadata": {},
   "outputs": [
    {
     "name": "stdout",
     "output_type": "stream",
     "text": [
      "the random state at  LinearRegression(copy_X=True, fit_intercept=True, n_jobs=None, normalize=False) is \n",
      ": 99 \n",
      " with a r2 score of  0.027595404970453874 \n",
      " mean abs error of  0.8984797493975469 \n",
      " and mean squared error 1.270043398258028 \n",
      " root mean sq error 1.1269620216573528\n"
     ]
    },
    {
     "data": {
      "text/plain": [
       "99"
      ]
     },
     "execution_count": 66,
     "metadata": {},
     "output_type": "execute_result"
    }
   ],
   "source": [
    "lg=LinearRegression()\n",
    "mo(lg,x,y)"
   ]
  },
  {
   "cell_type": "code",
   "execution_count": 67,
   "metadata": {},
   "outputs": [
    {
     "name": "stdout",
     "output_type": "stream",
     "text": [
      "the r2 score at liner regression model is= -0.011914749962545419\n"
     ]
    }
   ],
   "source": [
    "#checking for fit\n",
    "lg_scr=cross_val_score(lg,x,y,cv=30,scoring='r2')\n",
    "print('the r2 score at liner regression model is=', lg_scr.mean())"
   ]
  },
  {
   "cell_type": "code",
   "execution_count": 68,
   "metadata": {},
   "outputs": [
    {
     "name": "stderr",
     "output_type": "stream",
     "text": [
      "C:\\Users\\mishr\\Anaconda3\\lib\\site-packages\\sklearn\\model_selection\\_search.py:814: DeprecationWarning: The default of the `iid` parameter will change from True to False in version 0.22 and will be removed in 0.24. This will change numeric results when test-set sizes are unequal.\n",
      "  DeprecationWarning)\n"
     ]
    },
    {
     "data": {
      "text/plain": [
       "{'criterion': 'mae', 'max_depth': 4}"
      ]
     },
     "execution_count": 68,
     "metadata": {},
     "output_type": "execute_result"
    }
   ],
   "source": [
    "#decisiontreeregressor\n",
    "dtr=DecisionTreeRegressor()\n",
    "dtr_para={'criterion':['mse','friedman_mse', 'mae'],'max_depth':[3,4,5]}\n",
    "dtr_grid=GridSearchCV(dtr,dtr_para,cv=30)\n",
    "dtr_grid.fit(x,y)\n",
    "dtr_grid.best_params_"
   ]
  },
  {
   "cell_type": "code",
   "execution_count": 69,
   "metadata": {},
   "outputs": [
    {
     "name": "stdout",
     "output_type": "stream",
     "text": [
      "the random state at  DecisionTreeRegressor(criterion='mae', max_depth=4, max_features=None,\n",
      "                      max_leaf_nodes=None, min_impurity_decrease=0.0,\n",
      "                      min_impurity_split=None, min_samples_leaf=1,\n",
      "                      min_samples_split=2, min_weight_fraction_leaf=0.0,\n",
      "                      presort=False, random_state=None, splitter='best') is \n",
      ": 52 \n",
      " with a r2 score of  -0.3797188548837491 \n",
      " mean abs error of  1.038974487580115 \n",
      " and mean squared error 1.802030586912219 \n",
      " root mean sq error 1.3423973282572559\n"
     ]
    },
    {
     "data": {
      "text/plain": [
       "52"
      ]
     },
     "execution_count": 69,
     "metadata": {},
     "output_type": "execute_result"
    }
   ],
   "source": [
    "dtr=DecisionTreeRegressor(criterion='mae',max_depth=4)\n",
    "mo(dtr,x,y)"
   ]
  },
  {
   "cell_type": "code",
   "execution_count": 70,
   "metadata": {},
   "outputs": [
    {
     "name": "stdout",
     "output_type": "stream",
     "text": [
      "the r2 score of dtr model is \t -0.06930851238436367\n"
     ]
    }
   ],
   "source": [
    "#fitting\n",
    "dtr_score=cross_val_score(dtr,x,y,cv=30,scoring='r2')\n",
    "print('the r2 score of dtr model is \\t', dtr_score.mean())"
   ]
  },
  {
   "cell_type": "code",
   "execution_count": 71,
   "metadata": {},
   "outputs": [],
   "source": [
    "#the data is fitting too poorly"
   ]
  },
  {
   "cell_type": "code",
   "execution_count": 72,
   "metadata": {},
   "outputs": [
    {
     "name": "stderr",
     "output_type": "stream",
     "text": [
      "C:\\Users\\mishr\\Anaconda3\\lib\\site-packages\\sklearn\\model_selection\\_search.py:814: DeprecationWarning: The default of the `iid` parameter will change from True to False in version 0.22 and will be removed in 0.24. This will change numeric results when test-set sizes are unequal.\n",
      "  DeprecationWarning)\n"
     ]
    },
    {
     "data": {
      "text/plain": [
       "{'algorithm': 'kd_tree', 'n_neighbors': 19}"
      ]
     },
     "execution_count": 72,
     "metadata": {},
     "output_type": "execute_result"
    }
   ],
   "source": [
    "knr=KNeighborsRegressor()\n",
    "k_para={'n_neighbors': range(4,20),'algorithm':['ball_tree', 'kd_tree', 'brute']}\n",
    "k_grid=GridSearchCV(knr,k_para,cv=30)\n",
    "k_grid.fit(x,y)\n",
    "k_grid.best_params_"
   ]
  },
  {
   "cell_type": "code",
   "execution_count": 73,
   "metadata": {},
   "outputs": [
    {
     "name": "stdout",
     "output_type": "stream",
     "text": [
      "the random state at  KNeighborsRegressor(algorithm='kd_tree', leaf_size=30, metric='minkowski',\n",
      "                    metric_params=None, n_jobs=None, n_neighbors=19, p=2,\n",
      "                    weights='uniform') is \n",
      ": 37 \n",
      " with a r2 score of  0.018493833021810513 \n",
      " mean abs error of  0.8829947238606831 \n",
      " and mean squared error 1.281930828064747 \n",
      " root mean sq error 1.1322238418549342\n"
     ]
    },
    {
     "data": {
      "text/plain": [
       "37"
      ]
     },
     "execution_count": 73,
     "metadata": {},
     "output_type": "execute_result"
    }
   ],
   "source": [
    "knr=KNeighborsRegressor(algorithm='kd_tree',n_neighbors=19)\n",
    "mo(knr,x,y)"
   ]
  },
  {
   "cell_type": "code",
   "execution_count": 74,
   "metadata": {},
   "outputs": [
    {
     "name": "stdout",
     "output_type": "stream",
     "text": [
      "the r2 score of knr model is: -0.05513704092386236\n"
     ]
    }
   ],
   "source": [
    "#fitting\n",
    "knr_score=cross_val_score(knr,x,y,cv=30,scoring='r2')\n",
    "print('the r2 score of knr model is:',knr_score.mean())"
   ]
  },
  {
   "cell_type": "code",
   "execution_count": 75,
   "metadata": {},
   "outputs": [
    {
     "name": "stderr",
     "output_type": "stream",
     "text": [
      "C:\\Users\\mishr\\Anaconda3\\lib\\site-packages\\sklearn\\model_selection\\_search.py:814: DeprecationWarning: The default of the `iid` parameter will change from True to False in version 0.22 and will be removed in 0.24. This will change numeric results when test-set sizes are unequal.\n",
      "  DeprecationWarning)\n"
     ]
    },
    {
     "data": {
      "text/plain": [
       "{'degree': 4, 'kernel': 'linear'}"
      ]
     },
     "execution_count": 75,
     "metadata": {},
     "output_type": "execute_result"
    }
   ],
   "source": [
    "svr=SVR()\n",
    "svr_para={'kernel':['rbf','poly','linear'],'degree':[4,6,9]}\n",
    "svr_grid=GridSearchCV(svr,svr_para,cv=30)\n",
    "svr_grid.fit(x,y)\n",
    "svr_grid.best_params_"
   ]
  },
  {
   "cell_type": "code",
   "execution_count": 78,
   "metadata": {},
   "outputs": [
    {
     "name": "stdout",
     "output_type": "stream",
     "text": [
      "the random state at  SVR(C=1.0, cache_size=200, coef0=0.0, degree=4, epsilon=0.1,\n",
      "    gamma='auto_deprecated', kernel='linear', max_iter=-1, shrinking=True,\n",
      "    tol=0.001, verbose=False) is \n",
      ": 37 \n",
      " with a r2 score of  0.03278507927322971 \n",
      " mean abs error of  0.8852760766086547 \n",
      " and mean squared error 1.2632652406670002 \n",
      " root mean sq error 1.1239507287541568\n"
     ]
    },
    {
     "data": {
      "text/plain": [
       "37"
      ]
     },
     "execution_count": 78,
     "metadata": {},
     "output_type": "execute_result"
    }
   ],
   "source": [
    "svr=SVR(kernel='linear',degree=4)\n",
    "mo(svr,x,y)"
   ]
  },
  {
   "cell_type": "code",
   "execution_count": 80,
   "metadata": {},
   "outputs": [
    {
     "name": "stdout",
     "output_type": "stream",
     "text": [
      "the r2 score of svr model is: -0.01575008042088287\n"
     ]
    }
   ],
   "source": [
    "svr_score=cross_val_score(svr,x,y,cv=30,scoring='r2')\n",
    "print('the r2 score of svr model is:', svr_score.mean())"
   ]
  },
  {
   "cell_type": "code",
   "execution_count": null,
   "metadata": {},
   "outputs": [],
   "source": [
    "#randomforestregressor"
   ]
  },
  {
   "cell_type": "code",
   "execution_count": 83,
   "metadata": {},
   "outputs": [
    {
     "name": "stderr",
     "output_type": "stream",
     "text": [
      "C:\\Users\\mishr\\Anaconda3\\lib\\site-packages\\sklearn\\model_selection\\_search.py:814: DeprecationWarning: The default of the `iid` parameter will change from True to False in version 0.22 and will be removed in 0.24. This will change numeric results when test-set sizes are unequal.\n",
      "  DeprecationWarning)\n"
     ]
    },
    {
     "data": {
      "text/plain": [
       "{'criterion': 'mse', 'max_depth': 3, 'n_estimators': 300}"
      ]
     },
     "execution_count": 83,
     "metadata": {},
     "output_type": "execute_result"
    }
   ],
   "source": [
    "rfc=RandomForestRegressor()\n",
    "rfc_para={'n_estimators':[100,200,300],'criterion':['mse','mae'],'max_depth': range(3,8)}\n",
    "rfc_grid=GridSearchCV(rfc,rfc_para,cv=30)\n",
    "rfc_grid.fit(x,y)\n",
    "rfc_grid.best_params_"
   ]
  },
  {
   "cell_type": "code",
   "execution_count": 85,
   "metadata": {},
   "outputs": [
    {
     "name": "stdout",
     "output_type": "stream",
     "text": [
      "the random state at  RandomForestRegressor(bootstrap=True, criterion='mse', max_depth=3,\n",
      "                      max_features='auto', max_leaf_nodes=None,\n",
      "                      min_impurity_decrease=0.0, min_impurity_split=None,\n",
      "                      min_samples_leaf=1, min_samples_split=2,\n",
      "                      min_weight_fraction_leaf=0.0, n_estimators=300,\n",
      "                      n_jobs=None, oob_score=False, random_state=None,\n",
      "                      verbose=0, warm_start=False) is \n",
      ": 99 \n",
      " with a r2 score of  -0.1028088157341891 \n",
      " mean abs error of  0.9547732455647219 \n",
      " and mean squared error 1.4403624408226947 \n",
      " root mean sq error 1.2001510075080948\n"
     ]
    },
    {
     "data": {
      "text/plain": [
       "99"
      ]
     },
     "execution_count": 85,
     "metadata": {},
     "output_type": "execute_result"
    }
   ],
   "source": [
    "rfc=RandomForestRegressor(n_estimators=300,criterion='mse',max_depth=3)\n",
    "mo(rfc,x,y)"
   ]
  },
  {
   "cell_type": "code",
   "execution_count": 87,
   "metadata": {},
   "outputs": [
    {
     "name": "stdout",
     "output_type": "stream",
     "text": [
      "r2 score at rfc: -0.0031618523775451455\n"
     ]
    }
   ],
   "source": [
    "#fitting\n",
    "rfc_score=cross_val_score(rfc,x,y,cv=30,scoring='r2')\n",
    "print('r2 score at rfc:', rfc_score.mean())"
   ]
  },
  {
   "cell_type": "code",
   "execution_count": 89,
   "metadata": {},
   "outputs": [
    {
     "name": "stdout",
     "output_type": "stream",
     "text": [
      "best parameters: {'learning_rate': 0.0001, 'n_estimators': 500}\n",
      "\n",
      " best score: -0.04049473791945037\n"
     ]
    },
    {
     "name": "stderr",
     "output_type": "stream",
     "text": [
      "C:\\Users\\mishr\\Anaconda3\\lib\\site-packages\\sklearn\\model_selection\\_search.py:814: DeprecationWarning: The default of the `iid` parameter will change from True to False in version 0.22 and will be removed in 0.24. This will change numeric results when test-set sizes are unequal.\n",
      "  DeprecationWarning)\n"
     ]
    }
   ],
   "source": [
    "gbr=GradientBoostingRegressor()\n",
    "x_train,x_test,y_train,y_test=train_test_split(x,y,test_size=0.33,random_state=85)\n",
    "\n",
    "para= {\"learning_rate\": [0.0001,0.1,1.0], \"n_estimators\":[250,500]}\n",
    "\n",
    "gbgs= GridSearchCV(gbr,para,cv=15)\n",
    "gbgs.fit(x_train,y_train)\n",
    "print(\"best parameters:\", gbgs.best_params_)\n",
    "print(\"\\n best score:\",gbgs.best_score_)"
   ]
  },
  {
   "cell_type": "code",
   "execution_count": 90,
   "metadata": {},
   "outputs": [
    {
     "name": "stdout",
     "output_type": "stream",
     "text": [
      "the random state at  GradientBoostingRegressor(alpha=0.9, criterion='friedman_mse', init=None,\n",
      "                          learning_rate=0.0001, loss='ls', max_depth=3,\n",
      "                          max_features=None, max_leaf_nodes=None,\n",
      "                          min_impurity_decrease=0.0, min_impurity_split=None,\n",
      "                          min_samples_leaf=1, min_samples_split=2,\n",
      "                          min_weight_fraction_leaf=0.0, n_estimators=500,\n",
      "                          n_iter_no_change=None, presort='auto',\n",
      "                          random_state=None, subsample=1.0, tol=0.0001,\n",
      "                          validation_fraction=0.1, verbose=0, warm_start=False) is \n",
      ": 59 \n",
      " with a r2 score of  -0.027954138619411317 \n",
      " mean abs error of  0.9565419589517418 \n",
      " and mean squared error 1.3425958434780252 \n",
      " root mean sq error 1.1587043814010651\n"
     ]
    },
    {
     "data": {
      "text/plain": [
       "59"
      ]
     },
     "execution_count": 90,
     "metadata": {},
     "output_type": "execute_result"
    }
   ],
   "source": [
    "gbr=GradientBoostingRegressor(learning_rate=0.0001,n_estimators=500)\n",
    "mo(gbr,x,y)"
   ]
  },
  {
   "cell_type": "code",
   "execution_count": 91,
   "metadata": {},
   "outputs": [
    {
     "data": {
      "text/plain": [
       "0.0"
      ]
     },
     "execution_count": 91,
     "metadata": {},
     "output_type": "execute_result"
    }
   ],
   "source": [
    "lso=Lasso()\n",
    "x_train,x_test,y_train,y_test=train_test_split(x,y,test_size=0.33,random_state=85)\n",
    "lso.fit(x_train,y_train)\n",
    "lso.score(x_train,y_train)\n"
   ]
  },
  {
   "cell_type": "code",
   "execution_count": null,
   "metadata": {},
   "outputs": [],
   "source": [
    "#too poor r2 score_data is not fitting properly"
   ]
  },
  {
   "cell_type": "code",
   "execution_count": 93,
   "metadata": {},
   "outputs": [
    {
     "name": "stdout",
     "output_type": "stream",
     "text": [
      " the model is coming up with a r2 score of  0.08304772631604951 \n",
      " mean abs error of  0.9623474389984576 \n",
      " and mean squared error 1.4035321393199633 \n",
      " root mean sq error 1.1847076176508546\n"
     ]
    }
   ],
   "source": [
    "#model selected\n",
    "mod=LinearRegression()\n",
    "x_train,x_test,y_train,y_test=train_test_split(x,y,test_size=0.30,random_state=99)\n",
    "mod.fit(x_train,y_train)\n",
    "pred=mod.predict(x_test)\n",
    "r2score=r2_score(y_test,pred)\n",
    "MAE= mean_absolute_error(y_test,pred)\n",
    "MSE= mean_squared_error(y_test,pred)\n",
    "RMSE=np.sqrt(MSE)\n",
    "print(' the model is coming up with a r2 score of ',r2score,\n",
    "      '\\n mean abs error of ', MAE,\n",
    "      '\\n and mean squared error',MSE,\n",
    "      '\\n root mean sq error', RMSE)"
   ]
  },
  {
   "cell_type": "code",
   "execution_count": 94,
   "metadata": {},
   "outputs": [
    {
     "data": {
      "text/plain": [
       "['salary.pkl']"
      ]
     },
     "execution_count": 94,
     "metadata": {},
     "output_type": "execute_result"
    }
   ],
   "source": [
    "import joblib\n",
    "joblib.dump(mod,'salary.pkl')\n"
   ]
  }
 ],
 "metadata": {
  "kernelspec": {
   "display_name": "Python 3",
   "language": "python",
   "name": "python3"
  },
  "language_info": {
   "codemirror_mode": {
    "name": "ipython",
    "version": 3
   },
   "file_extension": ".py",
   "mimetype": "text/x-python",
   "name": "python",
   "nbconvert_exporter": "python",
   "pygments_lexer": "ipython3",
   "version": "3.7.4"
  }
 },
 "nbformat": 4,
 "nbformat_minor": 2
}
